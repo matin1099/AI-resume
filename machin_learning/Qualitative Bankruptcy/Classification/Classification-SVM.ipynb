{
 "cells": [
  {
   "cell_type": "markdown",
   "id": "12291e8b-fa05-43c4-b1c8-fc8ee1434436",
   "metadata": {},
   "source": [
    "# SVM Approch"
   ]
  },
  {
   "cell_type": "code",
   "id": "10457b3f-95fc-4f3e-8b14-e205bc968bd5",
   "metadata": {
    "jupyter": {
     "is_executing": true
    }
   },
   "source": [
    "\n",
    "\n",
    "import numpy as np\n",
    "import pandas as pd\n",
    "import matplotlib.pyplot as plt\n",
    "import seaborn as sns\n",
    "\n",
    "from sklearn.model_selection import train_test_split\n",
    "from sklearn.preprocessing import PolynomialFeatures\n",
    "from sklearn.preprocessing import StandardScaler\n",
    "from sklearn.metrics import (confusion_matrix, classification_report,\n",
    "ConfusionMatrixDisplay,PrecisionRecallDisplay,RocCurveDisplay)\n",
    "from sklearn.pipeline import Pipeline\n",
    "\n",
    "\n",
    "#Grid Search\n",
    "from sklearn.model_selection import GridSearchCV\n",
    "\n",
    "#Model(s)\n",
    "from sklearn.svm import SVC\n"
   ],
   "outputs": [],
   "execution_count": null
  },
  {
   "metadata": {
    "jupyter": {
     "is_executing": true
    }
   },
   "cell_type": "code",
   "source": "!ls",
   "id": "3327f74a568e2ac9",
   "outputs": [],
   "execution_count": null
  },
  {
   "cell_type": "markdown",
   "id": "ceecf3d1-5238-464c-8aa0-b89d981c7f7a",
   "metadata": {},
   "source": [
    "## Work flow\n",
    "0. [ ] Clean and Engeering Data for X and y\n",
    "1. [ ] Split Data in Train/Test for X and y\n",
    "2. [ ] Scaler on Training X & X test\n",
    "3. [ ] Create Model(s)\n",
    "4. [ ] Create Pipeline and HyperParameters\n",
    "5. [ ] Fit/Train Model(s) on X Train\n",
    "6. [ ] Evaluate Model(s) on X test\n",
    "7. [ ] Adjust Param as Necessary\n",
    "8. [ ] Bonus: Save Model(s)"
   ]
  },
  {
   "cell_type": "code",
   "execution_count": 2,
   "id": "e5eeb0f8-7287-4b42-bd65-4c36a59499d7",
   "metadata": {},
   "outputs": [],
   "source": [
    "filename = 'SVM'#import model approch for  joblib"
   ]
  },
  {
   "cell_type": "markdown",
   "id": "0d0e942b-4aa1-4cce-a20f-d21389ca4b4d",
   "metadata": {},
   "source": [
    "### PreProcess\n"
   ]
  },
  {
   "cell_type": "markdown",
   "id": "90de3f6d-8ba5-4f71-a346-cbe315f3b80d",
   "metadata": {},
   "source": [
    "#### Clean and Engeering Data"
   ]
  },
  {
   "cell_type": "code",
   "execution_count": 3,
   "id": "729fad3a-31d6-4905-89bf-4e01cee78520",
   "metadata": {},
   "outputs": [],
   "source": [
    "names=['IR', 'MR', 'FF', 'Credibility', 'Competitiveness', 'OR', 'Class']\n",
    "df = pd.read_csv('../Qualitative_Bankruptcy.data.txt',names=names)"
   ]
  },
  {
   "cell_type": "markdown",
   "id": "82e5d0ba-a233-4144-a645-2aa98f861e81",
   "metadata": {},
   "source": [
    "#### Clean and Engeering Data"
   ]
  },
  {
   "cell_type": "code",
   "execution_count": 4,
   "id": "19aaf138-b2ae-4c7c-bc78-2a70aa3f6840",
   "metadata": {
    "collapsed": true,
    "jupyter": {
     "outputs_hidden": true
    }
   },
   "outputs": [
    {
     "name": "stdout",
     "output_type": "stream",
     "text": [
      "IR\n",
      "N    89\n",
      "A    81\n",
      "P    80\n",
      "Name: count, dtype: int64\n",
      "\n",
      "****\n",
      "\n",
      "MR\n",
      "N    119\n",
      "A     69\n",
      "P     62\n",
      "Name: count, dtype: int64\n",
      "\n",
      "****\n",
      "\n",
      "FF\n",
      "N    119\n",
      "A     74\n",
      "P     57\n",
      "Name: count, dtype: int64\n",
      "\n",
      "****\n",
      "\n",
      "Credibility\n",
      "N    94\n",
      "P    79\n",
      "A    77\n",
      "Name: count, dtype: int64\n",
      "\n",
      "****\n",
      "\n",
      "Competitiveness\n",
      "N    103\n",
      "P     91\n",
      "A     56\n",
      "Name: count, dtype: int64\n",
      "\n",
      "****\n",
      "\n",
      "OR\n",
      "N    114\n",
      "P     79\n",
      "A     57\n",
      "Name: count, dtype: int64\n",
      "\n",
      "****\n",
      "\n",
      "Class\n",
      "NB    143\n",
      "B     107\n",
      "Name: count, dtype: int64\n",
      "\n",
      "****\n",
      "\n"
     ]
    }
   ],
   "source": [
    "for col in names:\n",
    "    print(df[col].value_counts())\n",
    "    print('\\n****\\n')"
   ]
  },
  {
   "cell_type": "code",
   "execution_count": 5,
   "id": "1e1ced3a-e77f-4a86-b8d5-fe9ffeab2e77",
   "metadata": {},
   "outputs": [],
   "source": [
    "X = df.drop(['Class'],axis = 1)\n",
    "X = pd.get_dummies(data=X, drop_first=True)\n",
    "y = df['Class'].map({'NB':0,'B':1})"
   ]
  },
  {
   "cell_type": "markdown",
   "id": "526c03c4-8789-403d-94ec-a121ba96c8ff",
   "metadata": {},
   "source": [
    "#### Split Data in Train/Test for X and y\n"
   ]
  },
  {
   "cell_type": "code",
   "execution_count": 6,
   "id": "307ad02c-a5c2-46f1-8bca-04e1868323b9",
   "metadata": {},
   "outputs": [],
   "source": [
    "X_train, X_test, y_train, y_test = train_test_split(\n",
    "...     X, y, test_size=0.33, random_state=1099, stratify=y)\n"
   ]
  },
  {
   "cell_type": "markdown",
   "id": "2bcdde8f-94ba-4d54-82db-82e740ae04ec",
   "metadata": {},
   "source": [
    "### Model"
   ]
  },
  {
   "cell_type": "markdown",
   "id": "32f42383-8d9b-4b94-982a-9512c9780e56",
   "metadata": {},
   "source": [
    "#### Create Model(s)"
   ]
  },
  {
   "cell_type": "code",
   "execution_count": 7,
   "id": "5e6e5684-57b4-47a7-b9ca-bf23d4138d96",
   "metadata": {
    "scrolled": true
   },
   "outputs": [
    {
     "name": "stdout",
     "output_type": "stream",
     "text": [
      "Help on class SVC in module sklearn.svm._classes:\n",
      "\n",
      "class SVC(sklearn.svm._base.BaseSVC)\n",
      " |  SVC(*, C=1.0, kernel='rbf', degree=3, gamma='scale', coef0=0.0, shrinking=True, probability=False, tol=0.001, cache_size=200, class_weight=None, verbose=False, max_iter=-1, decision_function_shape='ovr', break_ties=False, random_state=None)\n",
      " |  \n",
      " |  C-Support Vector Classification.\n",
      " |  \n",
      " |  The implementation is based on libsvm. The fit time scales at least\n",
      " |  quadratically with the number of samples and may be impractical\n",
      " |  beyond tens of thousands of samples. For large datasets\n",
      " |  consider using :class:`~sklearn.svm.LinearSVC` or\n",
      " |  :class:`~sklearn.linear_model.SGDClassifier` instead, possibly after a\n",
      " |  :class:`~sklearn.kernel_approximation.Nystroem` transformer or\n",
      " |  other :ref:`kernel_approximation`.\n",
      " |  \n",
      " |  The multiclass support is handled according to a one-vs-one scheme.\n",
      " |  \n",
      " |  For details on the precise mathematical formulation of the provided\n",
      " |  kernel functions and how `gamma`, `coef0` and `degree` affect each\n",
      " |  other, see the corresponding section in the narrative documentation:\n",
      " |  :ref:`svm_kernels`.\n",
      " |  \n",
      " |  Read more in the :ref:`User Guide <svm_classification>`.\n",
      " |  \n",
      " |  Parameters\n",
      " |  ----------\n",
      " |  C : float, default=1.0\n",
      " |      Regularization parameter. The strength of the regularization is\n",
      " |      inversely proportional to C. Must be strictly positive. The penalty\n",
      " |      is a squared l2 penalty.\n",
      " |  \n",
      " |  kernel : {'linear', 'poly', 'rbf', 'sigmoid', 'precomputed'} or callable,          default='rbf'\n",
      " |      Specifies the kernel type to be used in the algorithm.\n",
      " |      If none is given, 'rbf' will be used. If a callable is given it is\n",
      " |      used to pre-compute the kernel matrix from data matrices; that matrix\n",
      " |      should be an array of shape ``(n_samples, n_samples)``.\n",
      " |  \n",
      " |  degree : int, default=3\n",
      " |      Degree of the polynomial kernel function ('poly').\n",
      " |      Must be non-negative. Ignored by all other kernels.\n",
      " |  \n",
      " |  gamma : {'scale', 'auto'} or float, default='scale'\n",
      " |      Kernel coefficient for 'rbf', 'poly' and 'sigmoid'.\n",
      " |  \n",
      " |      - if ``gamma='scale'`` (default) is passed then it uses\n",
      " |        1 / (n_features * X.var()) as value of gamma,\n",
      " |      - if 'auto', uses 1 / n_features\n",
      " |      - if float, must be non-negative.\n",
      " |  \n",
      " |      .. versionchanged:: 0.22\n",
      " |         The default value of ``gamma`` changed from 'auto' to 'scale'.\n",
      " |  \n",
      " |  coef0 : float, default=0.0\n",
      " |      Independent term in kernel function.\n",
      " |      It is only significant in 'poly' and 'sigmoid'.\n",
      " |  \n",
      " |  shrinking : bool, default=True\n",
      " |      Whether to use the shrinking heuristic.\n",
      " |      See the :ref:`User Guide <shrinking_svm>`.\n",
      " |  \n",
      " |  probability : bool, default=False\n",
      " |      Whether to enable probability estimates. This must be enabled prior\n",
      " |      to calling `fit`, will slow down that method as it internally uses\n",
      " |      5-fold cross-validation, and `predict_proba` may be inconsistent with\n",
      " |      `predict`. Read more in the :ref:`User Guide <scores_probabilities>`.\n",
      " |  \n",
      " |  tol : float, default=1e-3\n",
      " |      Tolerance for stopping criterion.\n",
      " |  \n",
      " |  cache_size : float, default=200\n",
      " |      Specify the size of the kernel cache (in MB).\n",
      " |  \n",
      " |  class_weight : dict or 'balanced', default=None\n",
      " |      Set the parameter C of class i to class_weight[i]*C for\n",
      " |      SVC. If not given, all classes are supposed to have\n",
      " |      weight one.\n",
      " |      The \"balanced\" mode uses the values of y to automatically adjust\n",
      " |      weights inversely proportional to class frequencies in the input data\n",
      " |      as ``n_samples / (n_classes * np.bincount(y))``.\n",
      " |  \n",
      " |  verbose : bool, default=False\n",
      " |      Enable verbose output. Note that this setting takes advantage of a\n",
      " |      per-process runtime setting in libsvm that, if enabled, may not work\n",
      " |      properly in a multithreaded context.\n",
      " |  \n",
      " |  max_iter : int, default=-1\n",
      " |      Hard limit on iterations within solver, or -1 for no limit.\n",
      " |  \n",
      " |  decision_function_shape : {'ovo', 'ovr'}, default='ovr'\n",
      " |      Whether to return a one-vs-rest ('ovr') decision function of shape\n",
      " |      (n_samples, n_classes) as all other classifiers, or the original\n",
      " |      one-vs-one ('ovo') decision function of libsvm which has shape\n",
      " |      (n_samples, n_classes * (n_classes - 1) / 2). However, note that\n",
      " |      internally, one-vs-one ('ovo') is always used as a multi-class strategy\n",
      " |      to train models; an ovr matrix is only constructed from the ovo matrix.\n",
      " |      The parameter is ignored for binary classification.\n",
      " |  \n",
      " |      .. versionchanged:: 0.19\n",
      " |          decision_function_shape is 'ovr' by default.\n",
      " |  \n",
      " |      .. versionadded:: 0.17\n",
      " |         *decision_function_shape='ovr'* is recommended.\n",
      " |  \n",
      " |      .. versionchanged:: 0.17\n",
      " |         Deprecated *decision_function_shape='ovo' and None*.\n",
      " |  \n",
      " |  break_ties : bool, default=False\n",
      " |      If true, ``decision_function_shape='ovr'``, and number of classes > 2,\n",
      " |      :term:`predict` will break ties according to the confidence values of\n",
      " |      :term:`decision_function`; otherwise the first class among the tied\n",
      " |      classes is returned. Please note that breaking ties comes at a\n",
      " |      relatively high computational cost compared to a simple predict.\n",
      " |  \n",
      " |      .. versionadded:: 0.22\n",
      " |  \n",
      " |  random_state : int, RandomState instance or None, default=None\n",
      " |      Controls the pseudo random number generation for shuffling the data for\n",
      " |      probability estimates. Ignored when `probability` is False.\n",
      " |      Pass an int for reproducible output across multiple function calls.\n",
      " |      See :term:`Glossary <random_state>`.\n",
      " |  \n",
      " |  Attributes\n",
      " |  ----------\n",
      " |  class_weight_ : ndarray of shape (n_classes,)\n",
      " |      Multipliers of parameter C for each class.\n",
      " |      Computed based on the ``class_weight`` parameter.\n",
      " |  \n",
      " |  classes_ : ndarray of shape (n_classes,)\n",
      " |      The classes labels.\n",
      " |  \n",
      " |  coef_ : ndarray of shape (n_classes * (n_classes - 1) / 2, n_features)\n",
      " |      Weights assigned to the features (coefficients in the primal\n",
      " |      problem). This is only available in the case of a linear kernel.\n",
      " |  \n",
      " |      `coef_` is a readonly property derived from `dual_coef_` and\n",
      " |      `support_vectors_`.\n",
      " |  \n",
      " |  dual_coef_ : ndarray of shape (n_classes -1, n_SV)\n",
      " |      Dual coefficients of the support vector in the decision\n",
      " |      function (see :ref:`sgd_mathematical_formulation`), multiplied by\n",
      " |      their targets.\n",
      " |      For multiclass, coefficient for all 1-vs-1 classifiers.\n",
      " |      The layout of the coefficients in the multiclass case is somewhat\n",
      " |      non-trivial. See the :ref:`multi-class section of the User Guide\n",
      " |      <svm_multi_class>` for details.\n",
      " |  \n",
      " |  fit_status_ : int\n",
      " |      0 if correctly fitted, 1 otherwise (will raise warning)\n",
      " |  \n",
      " |  intercept_ : ndarray of shape (n_classes * (n_classes - 1) / 2,)\n",
      " |      Constants in decision function.\n",
      " |  \n",
      " |  n_features_in_ : int\n",
      " |      Number of features seen during :term:`fit`.\n",
      " |  \n",
      " |      .. versionadded:: 0.24\n",
      " |  \n",
      " |  feature_names_in_ : ndarray of shape (`n_features_in_`,)\n",
      " |      Names of features seen during :term:`fit`. Defined only when `X`\n",
      " |      has feature names that are all strings.\n",
      " |  \n",
      " |      .. versionadded:: 1.0\n",
      " |  \n",
      " |  n_iter_ : ndarray of shape (n_classes * (n_classes - 1) // 2,)\n",
      " |      Number of iterations run by the optimization routine to fit the model.\n",
      " |      The shape of this attribute depends on the number of models optimized\n",
      " |      which in turn depends on the number of classes.\n",
      " |  \n",
      " |      .. versionadded:: 1.1\n",
      " |  \n",
      " |  support_ : ndarray of shape (n_SV)\n",
      " |      Indices of support vectors.\n",
      " |  \n",
      " |  support_vectors_ : ndarray of shape (n_SV, n_features)\n",
      " |      Support vectors.\n",
      " |  \n",
      " |  n_support_ : ndarray of shape (n_classes,), dtype=int32\n",
      " |      Number of support vectors for each class.\n",
      " |  \n",
      " |  probA_ : ndarray of shape (n_classes * (n_classes - 1) / 2)\n",
      " |  probB_ : ndarray of shape (n_classes * (n_classes - 1) / 2)\n",
      " |      If `probability=True`, it corresponds to the parameters learned in\n",
      " |      Platt scaling to produce probability estimates from decision values.\n",
      " |      If `probability=False`, it's an empty array. Platt scaling uses the\n",
      " |      logistic function\n",
      " |      ``1 / (1 + exp(decision_value * probA_ + probB_))``\n",
      " |      where ``probA_`` and ``probB_`` are learned from the dataset [2]_. For\n",
      " |      more information on the multiclass case and training procedure see\n",
      " |      section 8 of [1]_.\n",
      " |  \n",
      " |  shape_fit_ : tuple of int of shape (n_dimensions_of_X,)\n",
      " |      Array dimensions of training vector ``X``.\n",
      " |  \n",
      " |  See Also\n",
      " |  --------\n",
      " |  SVR : Support Vector Machine for Regression implemented using libsvm.\n",
      " |  \n",
      " |  LinearSVC : Scalable Linear Support Vector Machine for classification\n",
      " |      implemented using liblinear. Check the See Also section of\n",
      " |      LinearSVC for more comparison element.\n",
      " |  \n",
      " |  References\n",
      " |  ----------\n",
      " |  .. [1] `LIBSVM: A Library for Support Vector Machines\n",
      " |      <http://www.csie.ntu.edu.tw/~cjlin/papers/libsvm.pdf>`_\n",
      " |  \n",
      " |  .. [2] `Platt, John (1999). \"Probabilistic Outputs for Support Vector\n",
      " |      Machines and Comparisons to Regularized Likelihood Methods\"\n",
      " |      <https://citeseerx.ist.psu.edu/doc_view/pid/42e5ed832d4310ce4378c44d05570439df28a393>`_\n",
      " |  \n",
      " |  Examples\n",
      " |  --------\n",
      " |  >>> import numpy as np\n",
      " |  >>> from sklearn.pipeline import make_pipeline\n",
      " |  >>> from sklearn.preprocessing import StandardScaler\n",
      " |  >>> X = np.array([[-1, -1], [-2, -1], [1, 1], [2, 1]])\n",
      " |  >>> y = np.array([1, 1, 2, 2])\n",
      " |  >>> from sklearn.svm import SVC\n",
      " |  >>> clf = make_pipeline(StandardScaler(), SVC(gamma='auto'))\n",
      " |  >>> clf.fit(X, y)\n",
      " |  Pipeline(steps=[('standardscaler', StandardScaler()),\n",
      " |                  ('svc', SVC(gamma='auto'))])\n",
      " |  \n",
      " |  >>> print(clf.predict([[-0.8, -1]]))\n",
      " |  [1]\n",
      " |  \n",
      " |  Method resolution order:\n",
      " |      SVC\n",
      " |      sklearn.svm._base.BaseSVC\n",
      " |      sklearn.base.ClassifierMixin\n",
      " |      sklearn.svm._base.BaseLibSVM\n",
      " |      sklearn.base.BaseEstimator\n",
      " |      builtins.object\n",
      " |  \n",
      " |  Methods defined here:\n",
      " |  \n",
      " |  __init__(self, *, C=1.0, kernel='rbf', degree=3, gamma='scale', coef0=0.0, shrinking=True, probability=False, tol=0.001, cache_size=200, class_weight=None, verbose=False, max_iter=-1, decision_function_shape='ovr', break_ties=False, random_state=None)\n",
      " |      Initialize self.  See help(type(self)) for accurate signature.\n",
      " |  \n",
      " |  ----------------------------------------------------------------------\n",
      " |  Data and other attributes defined here:\n",
      " |  \n",
      " |  __abstractmethods__ = frozenset()\n",
      " |  \n",
      " |  __annotations__ = {}\n",
      " |  \n",
      " |  ----------------------------------------------------------------------\n",
      " |  Methods inherited from sklearn.svm._base.BaseSVC:\n",
      " |  \n",
      " |  decision_function(self, X)\n",
      " |      Evaluate the decision function for the samples in X.\n",
      " |      \n",
      " |      Parameters\n",
      " |      ----------\n",
      " |      X : array-like of shape (n_samples, n_features)\n",
      " |          The input samples.\n",
      " |      \n",
      " |      Returns\n",
      " |      -------\n",
      " |      X : ndarray of shape (n_samples, n_classes * (n_classes-1) / 2)\n",
      " |          Returns the decision function of the sample for each class\n",
      " |          in the model.\n",
      " |          If decision_function_shape='ovr', the shape is (n_samples,\n",
      " |          n_classes).\n",
      " |      \n",
      " |      Notes\n",
      " |      -----\n",
      " |      If decision_function_shape='ovo', the function values are proportional\n",
      " |      to the distance of the samples X to the separating hyperplane. If the\n",
      " |      exact distances are required, divide the function values by the norm of\n",
      " |      the weight vector (``coef_``). See also `this question\n",
      " |      <https://stats.stackexchange.com/questions/14876/\n",
      " |      interpreting-distance-from-hyperplane-in-svm>`_ for further details.\n",
      " |      If decision_function_shape='ovr', the decision function is a monotonic\n",
      " |      transformation of ovo decision function.\n",
      " |  \n",
      " |  predict(self, X)\n",
      " |      Perform classification on samples in X.\n",
      " |      \n",
      " |      For an one-class model, +1 or -1 is returned.\n",
      " |      \n",
      " |      Parameters\n",
      " |      ----------\n",
      " |      X : {array-like, sparse matrix} of shape (n_samples, n_features) or                 (n_samples_test, n_samples_train)\n",
      " |          For kernel=\"precomputed\", the expected shape of X is\n",
      " |          (n_samples_test, n_samples_train).\n",
      " |      \n",
      " |      Returns\n",
      " |      -------\n",
      " |      y_pred : ndarray of shape (n_samples,)\n",
      " |          Class labels for samples in X.\n",
      " |  \n",
      " |  predict_log_proba(self, X)\n",
      " |      Compute log probabilities of possible outcomes for samples in X.\n",
      " |      \n",
      " |      The model need to have probability information computed at training\n",
      " |      time: fit with attribute `probability` set to True.\n",
      " |      \n",
      " |      Parameters\n",
      " |      ----------\n",
      " |      X : array-like of shape (n_samples, n_features) or                 (n_samples_test, n_samples_train)\n",
      " |          For kernel=\"precomputed\", the expected shape of X is\n",
      " |          (n_samples_test, n_samples_train).\n",
      " |      \n",
      " |      Returns\n",
      " |      -------\n",
      " |      T : ndarray of shape (n_samples, n_classes)\n",
      " |          Returns the log-probabilities of the sample for each class in\n",
      " |          the model. The columns correspond to the classes in sorted\n",
      " |          order, as they appear in the attribute :term:`classes_`.\n",
      " |      \n",
      " |      Notes\n",
      " |      -----\n",
      " |      The probability model is created using cross validation, so\n",
      " |      the results can be slightly different than those obtained by\n",
      " |      predict. Also, it will produce meaningless results on very small\n",
      " |      datasets.\n",
      " |  \n",
      " |  predict_proba(self, X)\n",
      " |      Compute probabilities of possible outcomes for samples in X.\n",
      " |      \n",
      " |      The model need to have probability information computed at training\n",
      " |      time: fit with attribute `probability` set to True.\n",
      " |      \n",
      " |      Parameters\n",
      " |      ----------\n",
      " |      X : array-like of shape (n_samples, n_features)\n",
      " |          For kernel=\"precomputed\", the expected shape of X is\n",
      " |          (n_samples_test, n_samples_train).\n",
      " |      \n",
      " |      Returns\n",
      " |      -------\n",
      " |      T : ndarray of shape (n_samples, n_classes)\n",
      " |          Returns the probability of the sample for each class in\n",
      " |          the model. The columns correspond to the classes in sorted\n",
      " |          order, as they appear in the attribute :term:`classes_`.\n",
      " |      \n",
      " |      Notes\n",
      " |      -----\n",
      " |      The probability model is created using cross validation, so\n",
      " |      the results can be slightly different than those obtained by\n",
      " |      predict. Also, it will produce meaningless results on very small\n",
      " |      datasets.\n",
      " |  \n",
      " |  ----------------------------------------------------------------------\n",
      " |  Readonly properties inherited from sklearn.svm._base.BaseSVC:\n",
      " |  \n",
      " |  probA_\n",
      " |      Parameter learned in Platt scaling when `probability=True`.\n",
      " |      \n",
      " |      Returns\n",
      " |      -------\n",
      " |      ndarray of shape  (n_classes * (n_classes - 1) / 2)\n",
      " |  \n",
      " |  probB_\n",
      " |      Parameter learned in Platt scaling when `probability=True`.\n",
      " |      \n",
      " |      Returns\n",
      " |      -------\n",
      " |      ndarray of shape  (n_classes * (n_classes - 1) / 2)\n",
      " |  \n",
      " |  ----------------------------------------------------------------------\n",
      " |  Data and other attributes inherited from sklearn.svm._base.BaseSVC:\n",
      " |  \n",
      " |  unused_param = 'nu'\n",
      " |  \n",
      " |  ----------------------------------------------------------------------\n",
      " |  Methods inherited from sklearn.base.ClassifierMixin:\n",
      " |  \n",
      " |  score(self, X, y, sample_weight=None)\n",
      " |      Return the mean accuracy on the given test data and labels.\n",
      " |      \n",
      " |      In multi-label classification, this is the subset accuracy\n",
      " |      which is a harsh metric since you require for each sample that\n",
      " |      each label set be correctly predicted.\n",
      " |      \n",
      " |      Parameters\n",
      " |      ----------\n",
      " |      X : array-like of shape (n_samples, n_features)\n",
      " |          Test samples.\n",
      " |      \n",
      " |      y : array-like of shape (n_samples,) or (n_samples, n_outputs)\n",
      " |          True labels for `X`.\n",
      " |      \n",
      " |      sample_weight : array-like of shape (n_samples,), default=None\n",
      " |          Sample weights.\n",
      " |      \n",
      " |      Returns\n",
      " |      -------\n",
      " |      score : float\n",
      " |          Mean accuracy of ``self.predict(X)`` w.r.t. `y`.\n",
      " |  \n",
      " |  ----------------------------------------------------------------------\n",
      " |  Data descriptors inherited from sklearn.base.ClassifierMixin:\n",
      " |  \n",
      " |  __dict__\n",
      " |      dictionary for instance variables\n",
      " |  \n",
      " |  __weakref__\n",
      " |      list of weak references to the object\n",
      " |  \n",
      " |  ----------------------------------------------------------------------\n",
      " |  Methods inherited from sklearn.svm._base.BaseLibSVM:\n",
      " |  \n",
      " |  fit(self, X, y, sample_weight=None)\n",
      " |      Fit the SVM model according to the given training data.\n",
      " |      \n",
      " |      Parameters\n",
      " |      ----------\n",
      " |      X : {array-like, sparse matrix} of shape (n_samples, n_features)                 or (n_samples, n_samples)\n",
      " |          Training vectors, where `n_samples` is the number of samples\n",
      " |          and `n_features` is the number of features.\n",
      " |          For kernel=\"precomputed\", the expected shape of X is\n",
      " |          (n_samples, n_samples).\n",
      " |      \n",
      " |      y : array-like of shape (n_samples,)\n",
      " |          Target values (class labels in classification, real numbers in\n",
      " |          regression).\n",
      " |      \n",
      " |      sample_weight : array-like of shape (n_samples,), default=None\n",
      " |          Per-sample weights. Rescale C per sample. Higher weights\n",
      " |          force the classifier to put more emphasis on these points.\n",
      " |      \n",
      " |      Returns\n",
      " |      -------\n",
      " |      self : object\n",
      " |          Fitted estimator.\n",
      " |      \n",
      " |      Notes\n",
      " |      -----\n",
      " |      If X and y are not C-ordered and contiguous arrays of np.float64 and\n",
      " |      X is not a scipy.sparse.csr_matrix, X and/or y may be copied.\n",
      " |      \n",
      " |      If X is a dense array, then the other methods will not support sparse\n",
      " |      matrices as input.\n",
      " |  \n",
      " |  ----------------------------------------------------------------------\n",
      " |  Readonly properties inherited from sklearn.svm._base.BaseLibSVM:\n",
      " |  \n",
      " |  coef_\n",
      " |      Weights assigned to the features when `kernel=\"linear\"`.\n",
      " |      \n",
      " |      Returns\n",
      " |      -------\n",
      " |      ndarray of shape (n_features, n_classes)\n",
      " |  \n",
      " |  n_support_\n",
      " |      Number of support vectors for each class.\n",
      " |  \n",
      " |  ----------------------------------------------------------------------\n",
      " |  Methods inherited from sklearn.base.BaseEstimator:\n",
      " |  \n",
      " |  __getstate__(self)\n",
      " |      Helper for pickle.\n",
      " |  \n",
      " |  __repr__(self, N_CHAR_MAX=700)\n",
      " |      Return repr(self).\n",
      " |  \n",
      " |  __setstate__(self, state)\n",
      " |  \n",
      " |  get_params(self, deep=True)\n",
      " |      Get parameters for this estimator.\n",
      " |      \n",
      " |      Parameters\n",
      " |      ----------\n",
      " |      deep : bool, default=True\n",
      " |          If True, will return the parameters for this estimator and\n",
      " |          contained subobjects that are estimators.\n",
      " |      \n",
      " |      Returns\n",
      " |      -------\n",
      " |      params : dict\n",
      " |          Parameter names mapped to their values.\n",
      " |  \n",
      " |  set_params(self, **params)\n",
      " |      Set the parameters of this estimator.\n",
      " |      \n",
      " |      The method works on simple estimators as well as on nested objects\n",
      " |      (such as :class:`~sklearn.pipeline.Pipeline`). The latter have\n",
      " |      parameters of the form ``<component>__<parameter>`` so that it's\n",
      " |      possible to update each component of a nested object.\n",
      " |      \n",
      " |      Parameters\n",
      " |      ----------\n",
      " |      **params : dict\n",
      " |          Estimator parameters.\n",
      " |      \n",
      " |      Returns\n",
      " |      -------\n",
      " |      self : estimator instance\n",
      " |          Estimator instance.\n",
      "\n"
     ]
    }
   ],
   "source": [
    "help(SVC)"
   ]
  },
  {
   "cell_type": "code",
   "execution_count": 8,
   "id": "3f80be09-b983-4207-8a77-3cda9d30cf25",
   "metadata": {},
   "outputs": [],
   "source": [
    "svc = SVC()"
   ]
  },
  {
   "cell_type": "code",
   "execution_count": 9,
   "id": "b6807c6f-5c15-46db-b169-c60e1f6d994b",
   "metadata": {},
   "outputs": [],
   "source": [
    "pipe = Pipeline([('svc',svc)])"
   ]
  },
  {
   "cell_type": "code",
   "execution_count": 14,
   "id": "6ef80bda-6f55-49be-b996-b77a65fb7529",
   "metadata": {},
   "outputs": [],
   "source": [
    "#hyperparams Value\n",
    "kernel = ['linear', 'poly', 'rbf', 'sigmoid', ]\n",
    "degree = list(range(1,5,1))\n",
    "gamma = ['scale', 'auto']"
   ]
  },
  {
   "cell_type": "code",
   "execution_count": 15,
   "id": "25e6728d-dda5-4c83-948e-f4cb94592cf4",
   "metadata": {},
   "outputs": [],
   "source": [
    "hyp_param = {\n",
    "    'svc__kernel' : kernel,\n",
    "    'svc__degree' : degree,\n",
    "    'svc__gamma' : gamma,\n",
    "}"
   ]
  },
  {
   "cell_type": "code",
   "execution_count": 16,
   "id": "890ddc74-ae0d-429d-8bad-90ce4fa28ca0",
   "metadata": {},
   "outputs": [],
   "source": [
    "full_model = GridSearchCV(\n",
    "    estimator=pipe,\n",
    "    param_grid=hyp_param,\n",
    "    cv=5,\n",
    "    verbose=2    \n",
    ")"
   ]
  },
  {
   "cell_type": "markdown",
   "id": "a98f6ab4-f386-4b39-b2fb-0d64674b9266",
   "metadata": {},
   "source": [
    "#### Train Model"
   ]
  },
  {
   "cell_type": "code",
   "execution_count": 17,
   "id": "7347d33d-9a46-4ace-81af-965a3f17244a",
   "metadata": {
    "scrolled": true
   },
   "outputs": [
    {
     "name": "stdout",
     "output_type": "stream",
     "text": [
      "Fitting 5 folds for each of 32 candidates, totalling 160 fits\n",
      "[CV] END svc__degree=1, svc__gamma=scale, svc__kernel=linear; total time=   0.0s\n",
      "[CV] END svc__degree=1, svc__gamma=scale, svc__kernel=linear; total time=   0.0s\n",
      "[CV] END svc__degree=1, svc__gamma=scale, svc__kernel=linear; total time=   0.0s\n",
      "[CV] END svc__degree=1, svc__gamma=scale, svc__kernel=linear; total time=   0.0s\n",
      "[CV] END svc__degree=1, svc__gamma=scale, svc__kernel=linear; total time=   0.0s\n",
      "[CV] END ..svc__degree=1, svc__gamma=scale, svc__kernel=poly; total time=   0.0s\n",
      "[CV] END ..svc__degree=1, svc__gamma=scale, svc__kernel=poly; total time=   0.0s\n",
      "[CV] END ..svc__degree=1, svc__gamma=scale, svc__kernel=poly; total time=   0.0s\n",
      "[CV] END ..svc__degree=1, svc__gamma=scale, svc__kernel=poly; total time=   0.0s\n",
      "[CV] END ..svc__degree=1, svc__gamma=scale, svc__kernel=poly; total time=   0.0s\n",
      "[CV] END ...svc__degree=1, svc__gamma=scale, svc__kernel=rbf; total time=   0.0s\n",
      "[CV] END ...svc__degree=1, svc__gamma=scale, svc__kernel=rbf; total time=   0.0s\n",
      "[CV] END ...svc__degree=1, svc__gamma=scale, svc__kernel=rbf; total time=   0.0s\n",
      "[CV] END ...svc__degree=1, svc__gamma=scale, svc__kernel=rbf; total time=   0.0s\n",
      "[CV] END ...svc__degree=1, svc__gamma=scale, svc__kernel=rbf; total time=   0.0s\n",
      "[CV] END svc__degree=1, svc__gamma=scale, svc__kernel=sigmoid; total time=   0.0s\n",
      "[CV] END svc__degree=1, svc__gamma=scale, svc__kernel=sigmoid; total time=   0.0s\n",
      "[CV] END svc__degree=1, svc__gamma=scale, svc__kernel=sigmoid; total time=   0.0s\n",
      "[CV] END svc__degree=1, svc__gamma=scale, svc__kernel=sigmoid; total time=   0.0s\n",
      "[CV] END svc__degree=1, svc__gamma=scale, svc__kernel=sigmoid; total time=   0.0s\n",
      "[CV] END .svc__degree=1, svc__gamma=auto, svc__kernel=linear; total time=   0.0s\n",
      "[CV] END .svc__degree=1, svc__gamma=auto, svc__kernel=linear; total time=   0.0s\n",
      "[CV] END .svc__degree=1, svc__gamma=auto, svc__kernel=linear; total time=   0.0s\n",
      "[CV] END .svc__degree=1, svc__gamma=auto, svc__kernel=linear; total time=   0.0s\n",
      "[CV] END .svc__degree=1, svc__gamma=auto, svc__kernel=linear; total time=   0.0s\n",
      "[CV] END ...svc__degree=1, svc__gamma=auto, svc__kernel=poly; total time=   0.0s\n",
      "[CV] END ...svc__degree=1, svc__gamma=auto, svc__kernel=poly; total time=   0.0s\n",
      "[CV] END ...svc__degree=1, svc__gamma=auto, svc__kernel=poly; total time=   0.0s\n",
      "[CV] END ...svc__degree=1, svc__gamma=auto, svc__kernel=poly; total time=   0.0s\n",
      "[CV] END ...svc__degree=1, svc__gamma=auto, svc__kernel=poly; total time=   0.0s\n",
      "[CV] END ....svc__degree=1, svc__gamma=auto, svc__kernel=rbf; total time=   0.0s\n",
      "[CV] END ....svc__degree=1, svc__gamma=auto, svc__kernel=rbf; total time=   0.0s\n",
      "[CV] END ....svc__degree=1, svc__gamma=auto, svc__kernel=rbf; total time=   0.0s\n",
      "[CV] END ....svc__degree=1, svc__gamma=auto, svc__kernel=rbf; total time=   0.0s\n",
      "[CV] END ....svc__degree=1, svc__gamma=auto, svc__kernel=rbf; total time=   0.0s\n",
      "[CV] END svc__degree=1, svc__gamma=auto, svc__kernel=sigmoid; total time=   0.0s\n",
      "[CV] END svc__degree=1, svc__gamma=auto, svc__kernel=sigmoid; total time=   0.0s\n",
      "[CV] END svc__degree=1, svc__gamma=auto, svc__kernel=sigmoid; total time=   0.0s\n",
      "[CV] END svc__degree=1, svc__gamma=auto, svc__kernel=sigmoid; total time=   0.0s\n",
      "[CV] END svc__degree=1, svc__gamma=auto, svc__kernel=sigmoid; total time=   0.0s\n",
      "[CV] END svc__degree=2, svc__gamma=scale, svc__kernel=linear; total time=   0.0s\n",
      "[CV] END svc__degree=2, svc__gamma=scale, svc__kernel=linear; total time=   0.0s\n",
      "[CV] END svc__degree=2, svc__gamma=scale, svc__kernel=linear; total time=   0.0s\n",
      "[CV] END svc__degree=2, svc__gamma=scale, svc__kernel=linear; total time=   0.0s\n",
      "[CV] END svc__degree=2, svc__gamma=scale, svc__kernel=linear; total time=   0.0s\n",
      "[CV] END ..svc__degree=2, svc__gamma=scale, svc__kernel=poly; total time=   0.0s\n",
      "[CV] END ..svc__degree=2, svc__gamma=scale, svc__kernel=poly; total time=   0.0s\n",
      "[CV] END ..svc__degree=2, svc__gamma=scale, svc__kernel=poly; total time=   0.0s\n",
      "[CV] END ..svc__degree=2, svc__gamma=scale, svc__kernel=poly; total time=   0.0s\n",
      "[CV] END ..svc__degree=2, svc__gamma=scale, svc__kernel=poly; total time=   0.0s\n",
      "[CV] END ...svc__degree=2, svc__gamma=scale, svc__kernel=rbf; total time=   0.0s\n",
      "[CV] END ...svc__degree=2, svc__gamma=scale, svc__kernel=rbf; total time=   0.0s\n",
      "[CV] END ...svc__degree=2, svc__gamma=scale, svc__kernel=rbf; total time=   0.0s\n",
      "[CV] END ...svc__degree=2, svc__gamma=scale, svc__kernel=rbf; total time=   0.0s\n",
      "[CV] END ...svc__degree=2, svc__gamma=scale, svc__kernel=rbf; total time=   0.0s\n",
      "[CV] END svc__degree=2, svc__gamma=scale, svc__kernel=sigmoid; total time=   0.0s\n",
      "[CV] END svc__degree=2, svc__gamma=scale, svc__kernel=sigmoid; total time=   0.0s\n",
      "[CV] END svc__degree=2, svc__gamma=scale, svc__kernel=sigmoid; total time=   0.0s\n",
      "[CV] END svc__degree=2, svc__gamma=scale, svc__kernel=sigmoid; total time=   0.0s\n",
      "[CV] END svc__degree=2, svc__gamma=scale, svc__kernel=sigmoid; total time=   0.0s\n",
      "[CV] END .svc__degree=2, svc__gamma=auto, svc__kernel=linear; total time=   0.0s\n",
      "[CV] END .svc__degree=2, svc__gamma=auto, svc__kernel=linear; total time=   0.0s\n",
      "[CV] END .svc__degree=2, svc__gamma=auto, svc__kernel=linear; total time=   0.0s\n",
      "[CV] END .svc__degree=2, svc__gamma=auto, svc__kernel=linear; total time=   0.0s\n",
      "[CV] END .svc__degree=2, svc__gamma=auto, svc__kernel=linear; total time=   0.0s\n",
      "[CV] END ...svc__degree=2, svc__gamma=auto, svc__kernel=poly; total time=   0.0s\n",
      "[CV] END ...svc__degree=2, svc__gamma=auto, svc__kernel=poly; total time=   0.0s\n",
      "[CV] END ...svc__degree=2, svc__gamma=auto, svc__kernel=poly; total time=   0.0s\n",
      "[CV] END ...svc__degree=2, svc__gamma=auto, svc__kernel=poly; total time=   0.0s\n",
      "[CV] END ...svc__degree=2, svc__gamma=auto, svc__kernel=poly; total time=   0.0s\n",
      "[CV] END ....svc__degree=2, svc__gamma=auto, svc__kernel=rbf; total time=   0.0s\n",
      "[CV] END ....svc__degree=2, svc__gamma=auto, svc__kernel=rbf; total time=   0.0s\n",
      "[CV] END ....svc__degree=2, svc__gamma=auto, svc__kernel=rbf; total time=   0.0s\n",
      "[CV] END ....svc__degree=2, svc__gamma=auto, svc__kernel=rbf; total time=   0.0s\n",
      "[CV] END ....svc__degree=2, svc__gamma=auto, svc__kernel=rbf; total time=   0.0s\n",
      "[CV] END svc__degree=2, svc__gamma=auto, svc__kernel=sigmoid; total time=   0.0s\n",
      "[CV] END svc__degree=2, svc__gamma=auto, svc__kernel=sigmoid; total time=   0.0s\n",
      "[CV] END svc__degree=2, svc__gamma=auto, svc__kernel=sigmoid; total time=   0.0s\n",
      "[CV] END svc__degree=2, svc__gamma=auto, svc__kernel=sigmoid; total time=   0.0s\n",
      "[CV] END svc__degree=2, svc__gamma=auto, svc__kernel=sigmoid; total time=   0.0s\n",
      "[CV] END svc__degree=3, svc__gamma=scale, svc__kernel=linear; total time=   0.0s\n",
      "[CV] END svc__degree=3, svc__gamma=scale, svc__kernel=linear; total time=   0.0s\n",
      "[CV] END svc__degree=3, svc__gamma=scale, svc__kernel=linear; total time=   0.0s\n",
      "[CV] END svc__degree=3, svc__gamma=scale, svc__kernel=linear; total time=   0.0s\n",
      "[CV] END svc__degree=3, svc__gamma=scale, svc__kernel=linear; total time=   0.0s\n",
      "[CV] END ..svc__degree=3, svc__gamma=scale, svc__kernel=poly; total time=   0.0s\n",
      "[CV] END ..svc__degree=3, svc__gamma=scale, svc__kernel=poly; total time=   0.0s\n",
      "[CV] END ..svc__degree=3, svc__gamma=scale, svc__kernel=poly; total time=   0.0s\n",
      "[CV] END ..svc__degree=3, svc__gamma=scale, svc__kernel=poly; total time=   0.0s\n",
      "[CV] END ..svc__degree=3, svc__gamma=scale, svc__kernel=poly; total time=   0.0s\n",
      "[CV] END ...svc__degree=3, svc__gamma=scale, svc__kernel=rbf; total time=   0.0s\n",
      "[CV] END ...svc__degree=3, svc__gamma=scale, svc__kernel=rbf; total time=   0.0s\n",
      "[CV] END ...svc__degree=3, svc__gamma=scale, svc__kernel=rbf; total time=   0.0s\n",
      "[CV] END ...svc__degree=3, svc__gamma=scale, svc__kernel=rbf; total time=   0.0s\n",
      "[CV] END ...svc__degree=3, svc__gamma=scale, svc__kernel=rbf; total time=   0.0s\n",
      "[CV] END svc__degree=3, svc__gamma=scale, svc__kernel=sigmoid; total time=   0.0s\n",
      "[CV] END svc__degree=3, svc__gamma=scale, svc__kernel=sigmoid; total time=   0.0s\n",
      "[CV] END svc__degree=3, svc__gamma=scale, svc__kernel=sigmoid; total time=   0.0s\n",
      "[CV] END svc__degree=3, svc__gamma=scale, svc__kernel=sigmoid; total time=   0.0s\n",
      "[CV] END svc__degree=3, svc__gamma=scale, svc__kernel=sigmoid; total time=   0.0s\n",
      "[CV] END .svc__degree=3, svc__gamma=auto, svc__kernel=linear; total time=   0.0s\n",
      "[CV] END .svc__degree=3, svc__gamma=auto, svc__kernel=linear; total time=   0.0s\n",
      "[CV] END .svc__degree=3, svc__gamma=auto, svc__kernel=linear; total time=   0.0s\n",
      "[CV] END .svc__degree=3, svc__gamma=auto, svc__kernel=linear; total time=   0.0s\n",
      "[CV] END .svc__degree=3, svc__gamma=auto, svc__kernel=linear; total time=   0.0s\n",
      "[CV] END ...svc__degree=3, svc__gamma=auto, svc__kernel=poly; total time=   0.0s\n",
      "[CV] END ...svc__degree=3, svc__gamma=auto, svc__kernel=poly; total time=   0.0s\n",
      "[CV] END ...svc__degree=3, svc__gamma=auto, svc__kernel=poly; total time=   0.0s\n",
      "[CV] END ...svc__degree=3, svc__gamma=auto, svc__kernel=poly; total time=   0.0s\n",
      "[CV] END ...svc__degree=3, svc__gamma=auto, svc__kernel=poly; total time=   0.0s\n",
      "[CV] END ....svc__degree=3, svc__gamma=auto, svc__kernel=rbf; total time=   0.0s\n",
      "[CV] END ....svc__degree=3, svc__gamma=auto, svc__kernel=rbf; total time=   0.0s\n",
      "[CV] END ....svc__degree=3, svc__gamma=auto, svc__kernel=rbf; total time=   0.0s\n",
      "[CV] END ....svc__degree=3, svc__gamma=auto, svc__kernel=rbf; total time=   0.0s\n",
      "[CV] END ....svc__degree=3, svc__gamma=auto, svc__kernel=rbf; total time=   0.0s\n",
      "[CV] END svc__degree=3, svc__gamma=auto, svc__kernel=sigmoid; total time=   0.0s\n",
      "[CV] END svc__degree=3, svc__gamma=auto, svc__kernel=sigmoid; total time=   0.0s\n",
      "[CV] END svc__degree=3, svc__gamma=auto, svc__kernel=sigmoid; total time=   0.0s\n",
      "[CV] END svc__degree=3, svc__gamma=auto, svc__kernel=sigmoid; total time=   0.0s\n",
      "[CV] END svc__degree=3, svc__gamma=auto, svc__kernel=sigmoid; total time=   0.0s\n",
      "[CV] END svc__degree=4, svc__gamma=scale, svc__kernel=linear; total time=   0.0s\n",
      "[CV] END svc__degree=4, svc__gamma=scale, svc__kernel=linear; total time=   0.0s\n",
      "[CV] END svc__degree=4, svc__gamma=scale, svc__kernel=linear; total time=   0.0s\n",
      "[CV] END svc__degree=4, svc__gamma=scale, svc__kernel=linear; total time=   0.0s\n",
      "[CV] END svc__degree=4, svc__gamma=scale, svc__kernel=linear; total time=   0.0s\n",
      "[CV] END ..svc__degree=4, svc__gamma=scale, svc__kernel=poly; total time=   0.0s\n",
      "[CV] END ..svc__degree=4, svc__gamma=scale, svc__kernel=poly; total time=   0.0s\n",
      "[CV] END ..svc__degree=4, svc__gamma=scale, svc__kernel=poly; total time=   0.0s\n",
      "[CV] END ..svc__degree=4, svc__gamma=scale, svc__kernel=poly; total time=   0.0s\n",
      "[CV] END ..svc__degree=4, svc__gamma=scale, svc__kernel=poly; total time=   0.0s\n",
      "[CV] END ...svc__degree=4, svc__gamma=scale, svc__kernel=rbf; total time=   0.0s\n",
      "[CV] END ...svc__degree=4, svc__gamma=scale, svc__kernel=rbf; total time=   0.0s\n",
      "[CV] END ...svc__degree=4, svc__gamma=scale, svc__kernel=rbf; total time=   0.0s\n",
      "[CV] END ...svc__degree=4, svc__gamma=scale, svc__kernel=rbf; total time=   0.0s\n",
      "[CV] END ...svc__degree=4, svc__gamma=scale, svc__kernel=rbf; total time=   0.0s\n",
      "[CV] END svc__degree=4, svc__gamma=scale, svc__kernel=sigmoid; total time=   0.0s\n",
      "[CV] END svc__degree=4, svc__gamma=scale, svc__kernel=sigmoid; total time=   0.0s\n",
      "[CV] END svc__degree=4, svc__gamma=scale, svc__kernel=sigmoid; total time=   0.0s\n",
      "[CV] END svc__degree=4, svc__gamma=scale, svc__kernel=sigmoid; total time=   0.0s\n",
      "[CV] END svc__degree=4, svc__gamma=scale, svc__kernel=sigmoid; total time=   0.0s\n",
      "[CV] END .svc__degree=4, svc__gamma=auto, svc__kernel=linear; total time=   0.0s\n",
      "[CV] END .svc__degree=4, svc__gamma=auto, svc__kernel=linear; total time=   0.0s\n",
      "[CV] END .svc__degree=4, svc__gamma=auto, svc__kernel=linear; total time=   0.0s\n",
      "[CV] END .svc__degree=4, svc__gamma=auto, svc__kernel=linear; total time=   0.0s\n",
      "[CV] END .svc__degree=4, svc__gamma=auto, svc__kernel=linear; total time=   0.0s\n",
      "[CV] END ...svc__degree=4, svc__gamma=auto, svc__kernel=poly; total time=   0.0s\n",
      "[CV] END ...svc__degree=4, svc__gamma=auto, svc__kernel=poly; total time=   0.0s\n",
      "[CV] END ...svc__degree=4, svc__gamma=auto, svc__kernel=poly; total time=   0.0s\n",
      "[CV] END ...svc__degree=4, svc__gamma=auto, svc__kernel=poly; total time=   0.0s\n",
      "[CV] END ...svc__degree=4, svc__gamma=auto, svc__kernel=poly; total time=   0.0s\n",
      "[CV] END ....svc__degree=4, svc__gamma=auto, svc__kernel=rbf; total time=   0.0s\n",
      "[CV] END ....svc__degree=4, svc__gamma=auto, svc__kernel=rbf; total time=   0.0s\n",
      "[CV] END ....svc__degree=4, svc__gamma=auto, svc__kernel=rbf; total time=   0.0s\n",
      "[CV] END ....svc__degree=4, svc__gamma=auto, svc__kernel=rbf; total time=   0.0s\n",
      "[CV] END ....svc__degree=4, svc__gamma=auto, svc__kernel=rbf; total time=   0.0s\n",
      "[CV] END svc__degree=4, svc__gamma=auto, svc__kernel=sigmoid; total time=   0.0s\n",
      "[CV] END svc__degree=4, svc__gamma=auto, svc__kernel=sigmoid; total time=   0.0s\n",
      "[CV] END svc__degree=4, svc__gamma=auto, svc__kernel=sigmoid; total time=   0.0s\n",
      "[CV] END svc__degree=4, svc__gamma=auto, svc__kernel=sigmoid; total time=   0.0s\n",
      "[CV] END svc__degree=4, svc__gamma=auto, svc__kernel=sigmoid; total time=   0.0s\n"
     ]
    },
    {
     "data": {
      "text/html": [
       "<style>#sk-container-id-2 {color: black;background-color: white;}#sk-container-id-2 pre{padding: 0;}#sk-container-id-2 div.sk-toggleable {background-color: white;}#sk-container-id-2 label.sk-toggleable__label {cursor: pointer;display: block;width: 100%;margin-bottom: 0;padding: 0.3em;box-sizing: border-box;text-align: center;}#sk-container-id-2 label.sk-toggleable__label-arrow:before {content: \"▸\";float: left;margin-right: 0.25em;color: #696969;}#sk-container-id-2 label.sk-toggleable__label-arrow:hover:before {color: black;}#sk-container-id-2 div.sk-estimator:hover label.sk-toggleable__label-arrow:before {color: black;}#sk-container-id-2 div.sk-toggleable__content {max-height: 0;max-width: 0;overflow: hidden;text-align: left;background-color: #f0f8ff;}#sk-container-id-2 div.sk-toggleable__content pre {margin: 0.2em;color: black;border-radius: 0.25em;background-color: #f0f8ff;}#sk-container-id-2 input.sk-toggleable__control:checked~div.sk-toggleable__content {max-height: 200px;max-width: 100%;overflow: auto;}#sk-container-id-2 input.sk-toggleable__control:checked~label.sk-toggleable__label-arrow:before {content: \"▾\";}#sk-container-id-2 div.sk-estimator input.sk-toggleable__control:checked~label.sk-toggleable__label {background-color: #d4ebff;}#sk-container-id-2 div.sk-label input.sk-toggleable__control:checked~label.sk-toggleable__label {background-color: #d4ebff;}#sk-container-id-2 input.sk-hidden--visually {border: 0;clip: rect(1px 1px 1px 1px);clip: rect(1px, 1px, 1px, 1px);height: 1px;margin: -1px;overflow: hidden;padding: 0;position: absolute;width: 1px;}#sk-container-id-2 div.sk-estimator {font-family: monospace;background-color: #f0f8ff;border: 1px dotted black;border-radius: 0.25em;box-sizing: border-box;margin-bottom: 0.5em;}#sk-container-id-2 div.sk-estimator:hover {background-color: #d4ebff;}#sk-container-id-2 div.sk-parallel-item::after {content: \"\";width: 100%;border-bottom: 1px solid gray;flex-grow: 1;}#sk-container-id-2 div.sk-label:hover label.sk-toggleable__label {background-color: #d4ebff;}#sk-container-id-2 div.sk-serial::before {content: \"\";position: absolute;border-left: 1px solid gray;box-sizing: border-box;top: 0;bottom: 0;left: 50%;z-index: 0;}#sk-container-id-2 div.sk-serial {display: flex;flex-direction: column;align-items: center;background-color: white;padding-right: 0.2em;padding-left: 0.2em;position: relative;}#sk-container-id-2 div.sk-item {position: relative;z-index: 1;}#sk-container-id-2 div.sk-parallel {display: flex;align-items: stretch;justify-content: center;background-color: white;position: relative;}#sk-container-id-2 div.sk-item::before, #sk-container-id-2 div.sk-parallel-item::before {content: \"\";position: absolute;border-left: 1px solid gray;box-sizing: border-box;top: 0;bottom: 0;left: 50%;z-index: -1;}#sk-container-id-2 div.sk-parallel-item {display: flex;flex-direction: column;z-index: 1;position: relative;background-color: white;}#sk-container-id-2 div.sk-parallel-item:first-child::after {align-self: flex-end;width: 50%;}#sk-container-id-2 div.sk-parallel-item:last-child::after {align-self: flex-start;width: 50%;}#sk-container-id-2 div.sk-parallel-item:only-child::after {width: 0;}#sk-container-id-2 div.sk-dashed-wrapped {border: 1px dashed gray;margin: 0 0.4em 0.5em 0.4em;box-sizing: border-box;padding-bottom: 0.4em;background-color: white;}#sk-container-id-2 div.sk-label label {font-family: monospace;font-weight: bold;display: inline-block;line-height: 1.2em;}#sk-container-id-2 div.sk-label-container {text-align: center;}#sk-container-id-2 div.sk-container {/* jupyter's `normalize.less` sets `[hidden] { display: none; }` but bootstrap.min.css set `[hidden] { display: none !important; }` so we also need the `!important` here to be able to override the default hidden behavior on the sphinx rendered scikit-learn.org. See: https://github.com/scikit-learn/scikit-learn/issues/21755 */display: inline-block !important;position: relative;}#sk-container-id-2 div.sk-text-repr-fallback {display: none;}</style><div id=\"sk-container-id-2\" class=\"sk-top-container\"><div class=\"sk-text-repr-fallback\"><pre>GridSearchCV(cv=5, estimator=Pipeline(steps=[(&#x27;svc&#x27;, SVC())]),\n",
       "             param_grid={&#x27;svc__degree&#x27;: [1, 2, 3, 4],\n",
       "                         &#x27;svc__gamma&#x27;: [&#x27;scale&#x27;, &#x27;auto&#x27;],\n",
       "                         &#x27;svc__kernel&#x27;: [&#x27;linear&#x27;, &#x27;poly&#x27;, &#x27;rbf&#x27;, &#x27;sigmoid&#x27;]},\n",
       "             verbose=2)</pre><b>In a Jupyter environment, please rerun this cell to show the HTML representation or trust the notebook. <br />On GitHub, the HTML representation is unable to render, please try loading this page with nbviewer.org.</b></div><div class=\"sk-container\" hidden><div class=\"sk-item sk-dashed-wrapped\"><div class=\"sk-label-container\"><div class=\"sk-label sk-toggleable\"><input class=\"sk-toggleable__control sk-hidden--visually\" id=\"sk-estimator-id-4\" type=\"checkbox\" ><label for=\"sk-estimator-id-4\" class=\"sk-toggleable__label sk-toggleable__label-arrow\">GridSearchCV</label><div class=\"sk-toggleable__content\"><pre>GridSearchCV(cv=5, estimator=Pipeline(steps=[(&#x27;svc&#x27;, SVC())]),\n",
       "             param_grid={&#x27;svc__degree&#x27;: [1, 2, 3, 4],\n",
       "                         &#x27;svc__gamma&#x27;: [&#x27;scale&#x27;, &#x27;auto&#x27;],\n",
       "                         &#x27;svc__kernel&#x27;: [&#x27;linear&#x27;, &#x27;poly&#x27;, &#x27;rbf&#x27;, &#x27;sigmoid&#x27;]},\n",
       "             verbose=2)</pre></div></div></div><div class=\"sk-parallel\"><div class=\"sk-parallel-item\"><div class=\"sk-item\"><div class=\"sk-label-container\"><div class=\"sk-label sk-toggleable\"><input class=\"sk-toggleable__control sk-hidden--visually\" id=\"sk-estimator-id-5\" type=\"checkbox\" ><label for=\"sk-estimator-id-5\" class=\"sk-toggleable__label sk-toggleable__label-arrow\">estimator: Pipeline</label><div class=\"sk-toggleable__content\"><pre>Pipeline(steps=[(&#x27;svc&#x27;, SVC())])</pre></div></div></div><div class=\"sk-serial\"><div class=\"sk-item\"><div class=\"sk-serial\"><div class=\"sk-item\"><div class=\"sk-estimator sk-toggleable\"><input class=\"sk-toggleable__control sk-hidden--visually\" id=\"sk-estimator-id-6\" type=\"checkbox\" ><label for=\"sk-estimator-id-6\" class=\"sk-toggleable__label sk-toggleable__label-arrow\">SVC</label><div class=\"sk-toggleable__content\"><pre>SVC()</pre></div></div></div></div></div></div></div></div></div></div></div></div>"
      ],
      "text/plain": [
       "GridSearchCV(cv=5, estimator=Pipeline(steps=[('svc', SVC())]),\n",
       "             param_grid={'svc__degree': [1, 2, 3, 4],\n",
       "                         'svc__gamma': ['scale', 'auto'],\n",
       "                         'svc__kernel': ['linear', 'poly', 'rbf', 'sigmoid']},\n",
       "             verbose=2)"
      ]
     },
     "execution_count": 17,
     "metadata": {},
     "output_type": "execute_result"
    }
   ],
   "source": [
    "full_model.fit(X_train,y_train)"
   ]
  },
  {
   "cell_type": "markdown",
   "id": "2adc73c9-09fd-4f02-921f-b7d33127da81",
   "metadata": {},
   "source": [
    "### Evaluate model"
   ]
  },
  {
   "cell_type": "code",
   "execution_count": 18,
   "id": "2da30177-9cbd-41f8-bda5-6e20fa087558",
   "metadata": {},
   "outputs": [],
   "source": [
    "y_pred = full_model.predict(X_test)"
   ]
  },
  {
   "cell_type": "markdown",
   "id": "b0af0960-65f5-43d3-82a7-07555aaaca16",
   "metadata": {},
   "source": [
    "#### Test On data"
   ]
  },
  {
   "cell_type": "code",
   "execution_count": 19,
   "id": "1b73633c-9d5d-48a9-a1ab-4b0dca846729",
   "metadata": {},
   "outputs": [
    {
     "data": {
      "text/plain": [
       "<sklearn.metrics._plot.confusion_matrix.ConfusionMatrixDisplay at 0x7f57300c8e50>"
      ]
     },
     "execution_count": 19,
     "metadata": {},
     "output_type": "execute_result"
    },
    {
     "data": {
      "image/png": "[encoded data removed]",
      "text/plain": [
       "<Figure size 640x480 with 2 Axes>"
      ]
     },
     "metadata": {},
     "output_type": "display_data"
    }
   ],
   "source": [
    "ConfusionMatrixDisplay(confusion_matrix=confusion_matrix(\n",
    "    y_true=y_test, y_pred=y_pred)\n",
    "                       ,display_labels=full_model.classes_).plot()"
   ]
  },
  {
   "cell_type": "code",
   "execution_count": 20,
   "id": "f103f32a-734b-497e-b904-01be527d6e83",
   "metadata": {
    "scrolled": true
   },
   "outputs": [
    {
     "data": {
      "text/plain": [
       "<sklearn.metrics._plot.precision_recall_curve.PrecisionRecallDisplay at 0x7f5730313b50>"
      ]
     },
     "execution_count": 20,
     "metadata": {},
     "output_type": "execute_result"
    },
    {
     "data": {
      "image/png": "[encoded data removed]",
      "text/plain": [
       "<Figure size 640x480 with 1 Axes>"
      ]
     },
     "metadata": {},
     "output_type": "display_data"
    },
    {
     "data": {
      "image/png": "[encoded data removed]",
      "text/plain": [
       "<Figure size 640x480 with 1 Axes>"
      ]
     },
     "metadata": {},
     "output_type": "display_data"
    }
   ],
   "source": [
    "PrecisionRecallDisplay.from_estimator(estimator=full_model,\n",
    "                                     X=X_train,\n",
    "                                     y=y_train).plot()"
   ]
  },
  {
   "cell_type": "code",
   "execution_count": 22,
   "id": "e8e2f6df-860f-4299-aa0f-1ebb601ba8a8",
   "metadata": {},
   "outputs": [
    {
     "data": {
      "text/plain": [
       "<sklearn.metrics._plot.precision_recall_curve.PrecisionRecallDisplay at 0x7f5730ad3650>"
      ]
     },
     "execution_count": 22,
     "metadata": {},
     "output_type": "execute_result"
    },
    {
     "data": {
      "image/png": "[encoded data removed]",
      "text/plain": [
       "<Figure size 640x480 with 1 Axes>"
      ]
     },
     "metadata": {},
     "output_type": "display_data"
    },
    {
     "data": {
      "image/png": "[encoded data removed]",
      "text/plain": [
       "<Figure size 640x480 with 1 Axes>"
      ]
     },
     "metadata": {},
     "output_type": "display_data"
    }
   ],
   "source": [
    "\n",
    "PrecisionRecallDisplay.from_predictions(y_pred=y_pred,\n",
    "                                    y_true=y_test,).plot()"
   ]
  },
  {
   "cell_type": "code",
   "execution_count": 30,
   "id": "fbb5857e-13a7-498a-bfbe-9b0237d765d6",
   "metadata": {},
   "outputs": [
    {
     "data": {
      "text/plain": [
       "<sklearn.metrics._plot.roc_curve.RocCurveDisplay at 0x7f20333d70d0>"
      ]
     },
     "execution_count": 30,
     "metadata": {},
     "output_type": "execute_result"
    },
    {
     "data": {
      "image/png": "[encoded data removed]",
      "text/plain": [
       "<Figure size 640x480 with 1 Axes>"
      ]
     },
     "metadata": {},
     "output_type": "display_data"
    },
    {
     "data": {
      "image/png": "[encoded data removed]",
      "text/plain": [
       "<Figure size 640x480 with 1 Axes>"
      ]
     },
     "metadata": {},
     "output_type": "display_data"
    }
   ],
   "source": [
    "RocCurveDisplay.from_estimator(estimator=full_model,\n",
    "                                     X=X_train,\n",
    "                                     y=y_train).plot()"
   ]
  },
  {
   "cell_type": "code",
   "execution_count": 23,
   "id": "9817e724-1a5a-4d9a-be34-cb1764aaaacf",
   "metadata": {},
   "outputs": [
    {
     "data": {
      "text/plain": [
       "<sklearn.metrics._plot.roc_curve.RocCurveDisplay at 0x7f5730bc6b10>"
      ]
     },
     "execution_count": 23,
     "metadata": {},
     "output_type": "execute_result"
    },
    {
     "data": {
      "image/png": "[encoded data removed]",
      "text/plain": [
       "<Figure size 640x480 with 1 Axes>"
      ]
     },
     "metadata": {},
     "output_type": "display_data"
    },
    {
     "data": {
      "image/png": "[encoded data removed]",
      "text/plain": [
       "<Figure size 640x480 with 1 Axes>"
      ]
     },
     "metadata": {},
     "output_type": "display_data"
    }
   ],
   "source": [
    "RocCurveDisplay.from_predictions(y_pred=y_pred,\n",
    "                                 y_true=y_test).plot()"
   ]
  },
  {
   "cell_type": "code",
   "execution_count": 24,
   "id": "b1c43cdb-c04d-4f6b-bb57-58e104afbf97",
   "metadata": {},
   "outputs": [
    {
     "name": "stdout",
     "output_type": "stream",
     "text": [
      "              precision    recall  f1-score   support\n",
      "\n",
      "           0       1.00      1.00      1.00        47\n",
      "           1       1.00      1.00      1.00        36\n",
      "\n",
      "    accuracy                           1.00        83\n",
      "   macro avg       1.00      1.00      1.00        83\n",
      "weighted avg       1.00      1.00      1.00        83\n",
      "\n"
     ]
    }
   ],
   "source": [
    "print(classification_report(y_pred=y_pred,\n",
    "                      y_true=y_test))"
   ]
  },
  {
   "cell_type": "code",
   "execution_count": 25,
   "id": "2152e98f-b388-4ec4-a482-b8f354f3f762",
   "metadata": {
    "editable": true,
    "slideshow": {
     "slide_type": ""
    },
    "tags": []
   },
   "outputs": [
    {
     "data": {
      "text/plain": [
       "{'svc__degree': 1, 'svc__gamma': 'scale', 'svc__kernel': 'sigmoid'}"
      ]
     },
     "execution_count": 25,
     "metadata": {},
     "output_type": "execute_result"
    }
   ],
   "source": [
    "full_model.best_params_"
   ]
  },
  {
   "cell_type": "markdown",
   "id": "a6b96fdc-ae0e-4197-8232-d9da2e4687a4",
   "metadata": {},
   "source": [
    "### Final Model(s)\n"
   ]
  },
  {
   "cell_type": "code",
   "execution_count": 26,
   "id": "ce456e5a-da76-4296-8926-2242a1abaee4",
   "metadata": {},
   "outputs": [],
   "source": [
    "svc_final = SVC(\n",
    "    degree=1,\n",
    "    gamma='scale',\n",
    "    kernel='sigmoid'\n",
    ")"
   ]
  },
  {
   "cell_type": "markdown",
   "id": "85c4fe54-02b3-484f-b998-b033deed4205",
   "metadata": {},
   "source": [
    "#### Train on all Data "
   ]
  },
  {
   "cell_type": "code",
   "execution_count": 27,
   "id": "26905bda-9d4c-4229-bb43-a183771a967b",
   "metadata": {},
   "outputs": [
    {
     "data": {
      "text/html": [
       "<style>#sk-container-id-3 {color: black;background-color: white;}#sk-container-id-3 pre{padding: 0;}#sk-container-id-3 div.sk-toggleable {background-color: white;}#sk-container-id-3 label.sk-toggleable__label {cursor: pointer;display: block;width: 100%;margin-bottom: 0;padding: 0.3em;box-sizing: border-box;text-align: center;}#sk-container-id-3 label.sk-toggleable__label-arrow:before {content: \"▸\";float: left;margin-right: 0.25em;color: #696969;}#sk-container-id-3 label.sk-toggleable__label-arrow:hover:before {color: black;}#sk-container-id-3 div.sk-estimator:hover label.sk-toggleable__label-arrow:before {color: black;}#sk-container-id-3 div.sk-toggleable__content {max-height: 0;max-width: 0;overflow: hidden;text-align: left;background-color: #f0f8ff;}#sk-container-id-3 div.sk-toggleable__content pre {margin: 0.2em;color: black;border-radius: 0.25em;background-color: #f0f8ff;}#sk-container-id-3 input.sk-toggleable__control:checked~div.sk-toggleable__content {max-height: 200px;max-width: 100%;overflow: auto;}#sk-container-id-3 input.sk-toggleable__control:checked~label.sk-toggleable__label-arrow:before {content: \"▾\";}#sk-container-id-3 div.sk-estimator input.sk-toggleable__control:checked~label.sk-toggleable__label {background-color: #d4ebff;}#sk-container-id-3 div.sk-label input.sk-toggleable__control:checked~label.sk-toggleable__label {background-color: #d4ebff;}#sk-container-id-3 input.sk-hidden--visually {border: 0;clip: rect(1px 1px 1px 1px);clip: rect(1px, 1px, 1px, 1px);height: 1px;margin: -1px;overflow: hidden;padding: 0;position: absolute;width: 1px;}#sk-container-id-3 div.sk-estimator {font-family: monospace;background-color: #f0f8ff;border: 1px dotted black;border-radius: 0.25em;box-sizing: border-box;margin-bottom: 0.5em;}#sk-container-id-3 div.sk-estimator:hover {background-color: #d4ebff;}#sk-container-id-3 div.sk-parallel-item::after {content: \"\";width: 100%;border-bottom: 1px solid gray;flex-grow: 1;}#sk-container-id-3 div.sk-label:hover label.sk-toggleable__label {background-color: #d4ebff;}#sk-container-id-3 div.sk-serial::before {content: \"\";position: absolute;border-left: 1px solid gray;box-sizing: border-box;top: 0;bottom: 0;left: 50%;z-index: 0;}#sk-container-id-3 div.sk-serial {display: flex;flex-direction: column;align-items: center;background-color: white;padding-right: 0.2em;padding-left: 0.2em;position: relative;}#sk-container-id-3 div.sk-item {position: relative;z-index: 1;}#sk-container-id-3 div.sk-parallel {display: flex;align-items: stretch;justify-content: center;background-color: white;position: relative;}#sk-container-id-3 div.sk-item::before, #sk-container-id-3 div.sk-parallel-item::before {content: \"\";position: absolute;border-left: 1px solid gray;box-sizing: border-box;top: 0;bottom: 0;left: 50%;z-index: -1;}#sk-container-id-3 div.sk-parallel-item {display: flex;flex-direction: column;z-index: 1;position: relative;background-color: white;}#sk-container-id-3 div.sk-parallel-item:first-child::after {align-self: flex-end;width: 50%;}#sk-container-id-3 div.sk-parallel-item:last-child::after {align-self: flex-start;width: 50%;}#sk-container-id-3 div.sk-parallel-item:only-child::after {width: 0;}#sk-container-id-3 div.sk-dashed-wrapped {border: 1px dashed gray;margin: 0 0.4em 0.5em 0.4em;box-sizing: border-box;padding-bottom: 0.4em;background-color: white;}#sk-container-id-3 div.sk-label label {font-family: monospace;font-weight: bold;display: inline-block;line-height: 1.2em;}#sk-container-id-3 div.sk-label-container {text-align: center;}#sk-container-id-3 div.sk-container {/* jupyter's `normalize.less` sets `[hidden] { display: none; }` but bootstrap.min.css set `[hidden] { display: none !important; }` so we also need the `!important` here to be able to override the default hidden behavior on the sphinx rendered scikit-learn.org. See: https://github.com/scikit-learn/scikit-learn/issues/21755 */display: inline-block !important;position: relative;}#sk-container-id-3 div.sk-text-repr-fallback {display: none;}</style><div id=\"sk-container-id-3\" class=\"sk-top-container\"><div class=\"sk-text-repr-fallback\"><pre>SVC(degree=1, kernel=&#x27;sigmoid&#x27;)</pre><b>In a Jupyter environment, please rerun this cell to show the HTML representation or trust the notebook. <br />On GitHub, the HTML representation is unable to render, please try loading this page with nbviewer.org.</b></div><div class=\"sk-container\" hidden><div class=\"sk-item\"><div class=\"sk-estimator sk-toggleable\"><input class=\"sk-toggleable__control sk-hidden--visually\" id=\"sk-estimator-id-7\" type=\"checkbox\" checked><label for=\"sk-estimator-id-7\" class=\"sk-toggleable__label sk-toggleable__label-arrow\">SVC</label><div class=\"sk-toggleable__content\"><pre>SVC(degree=1, kernel=&#x27;sigmoid&#x27;)</pre></div></div></div></div></div>"
      ],
      "text/plain": [
       "SVC(degree=1, kernel='sigmoid')"
      ]
     },
     "execution_count": 27,
     "metadata": {},
     "output_type": "execute_result"
    }
   ],
   "source": [
    "svc_final.fit(X,y)"
   ]
  },
  {
   "cell_type": "markdown",
   "id": "36e33b81-ae1c-437d-98d8-12df18db766a",
   "metadata": {},
   "source": [
    "#### Save with joblib"
   ]
  },
  {
   "cell_type": "code",
   "execution_count": 28,
   "id": "313a8488-938c-4ea9-9d35-08e73ff6247c",
   "metadata": {},
   "outputs": [
    {
     "data": {
      "text/plain": [
       "['SVM']"
      ]
     },
     "execution_count": 28,
     "metadata": {},
     "output_type": "execute_result"
    }
   ],
   "source": [
    "import joblib\n",
    "joblib.dump(value=svc_final,filename=filename)"
   ]
  },
  {
   "cell_type": "markdown",
   "id": "5d85138d-b4a0-4347-9042-c8f9d818a109",
   "metadata": {},
   "source": [
    "# Congratulations!!!\n",
    "\n",
    "#### Created and trained by  Matin1099.\n"
   ]
  }
 ],
 "metadata": {
  "kernelspec": {
   "display_name": "Python 3 (ipykernel)",
   "language": "python",
   "name": "python3"
  },
  "language_info": {
   "codemirror_mode": {
    "name": "ipython",
    "version": 3
   },
   "file_extension": ".py",
   "mimetype": "text/x-python",
   "name": "python",
   "nbconvert_exporter": "python",
   "pygments_lexer": "ipython3",
   "version": "3.11.7"
  },
  "widgets": {
   "application/vnd.jupyter.widget-state+json": {
    "state": {},
    "version_major": 2,
    "version_minor": 0
   }
  }
 },
 "nbformat": 4,
 "nbformat_minor": 5
}
