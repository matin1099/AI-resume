{
 "cells": [
  {
   "cell_type": "markdown",
   "id": "12291e8b-fa05-43c4-b1c8-fc8ee1434436",
   "metadata": {},
   "source": [
    "# Classification Approch"
   ]
  },
  {
   "cell_type": "markdown",
   "id": "55343c92-cbff-4bca-ac7a-f9effde52dad",
   "metadata": {},
   "source": [
    "# تمامی دفترچه های لاجستیک بر روی کولب آموزش میبینند و مدل اماده اینحا درج میشود"
   ]
  },
  {
   "cell_type": "code",
   "execution_count": 1,
   "id": "382ceda6-2577-40cf-af60-b8a27b6a02e6",
   "metadata": {},
   "outputs": [],
   "source": [
    "\n",
    "\n",
    "import numpy as np\n",
    "import pandas as pd\n",
    "import matplotlib.pyplot as plt\n",
    "import seaborn as sns\n",
    "\n",
    "from sklearn.model_selection import train_test_split\n",
    "from sklearn.preprocessing import PolynomialFeatures\n",
    "from sklearn.preprocessing import StandardScaler\n",
    "from sklearn.metrics import (confusion_matrix, classification_report,\n",
    "ConfusionMatrixDisplay,PrecisionRecallDisplay,RocCurveDisplay)\n",
    "from sklearn.pipeline import Pipeline\n",
    "\n",
    "\n",
    "#Grid Search\n",
    "from sklearn.model_selection import GridSearchCV\n",
    "\n",
    "#Model(s)\n",
    "from sklearn.linear_model import LogisticRegression\n"
   ]
  },
  {
   "cell_type": "markdown",
   "id": "5e7d9d54-2169-4f1a-a2e5-84825d25d13e",
   "metadata": {},
   "source": [
    "## Work flow\n",
    "0. [ ] Clean and Engeering Data for X and y\n",
    "1. [ ] Split Data in Train/Test for X and y\n",
    "2. [ ] Scaler on Training X & X test\n",
    "3. [ ] Create Model(s)\n",
    "4. [ ] Create Pipeline and HyperParameters\n",
    "5. [ ] Fit/Train Model(s) on X Train\n",
    "6. [ ] Evaluate Model(s) on X test\n",
    "7. [ ] Adjust Param as Necessary\n",
    "8. [ ] Bonus: Save Model(s)"
   ]
  },
  {
   "cell_type": "code",
   "execution_count": 2,
   "id": "05911e22-da6b-435f-a055-660b1d79930b",
   "metadata": {},
   "outputs": [],
   "source": [
    "filename = 'Logestic.pkl'"
   ]
  },
  {
   "cell_type": "markdown",
   "id": "0d0e942b-4aa1-4cce-a20f-d21389ca4b4d",
   "metadata": {},
   "source": [
    "### PreProcess\n"
   ]
  },
  {
   "cell_type": "code",
   "execution_count": 5,
   "id": "59def010-ff0c-4c31-911c-0c517f132965",
   "metadata": {},
   "outputs": [
    {
     "data": {
      "text/html": [
       "<div>\n",
       "<style scoped>\n",
       "    .dataframe tbody tr th:only-of-type {\n",
       "        vertical-align: middle;\n",
       "    }\n",
       "\n",
       "    .dataframe tbody tr th {\n",
       "        vertical-align: top;\n",
       "    }\n",
       "\n",
       "    .dataframe thead th {\n",
       "        text-align: right;\n",
       "    }\n",
       "</style>\n",
       "<table border=\"1\" class=\"dataframe\">\n",
       "  <thead>\n",
       "    <tr style=\"text-align: right;\">\n",
       "      <th></th>\n",
       "      <th>wifi 1</th>\n",
       "      <th>wifi 2</th>\n",
       "      <th>wifi 3</th>\n",
       "      <th>wifi 4</th>\n",
       "      <th>wifi 5</th>\n",
       "      <th>wifi 6</th>\n",
       "      <th>wifi 7</th>\n",
       "      <th>room</th>\n",
       "    </tr>\n",
       "  </thead>\n",
       "  <tbody>\n",
       "    <tr>\n",
       "      <th>0</th>\n",
       "      <td>-64</td>\n",
       "      <td>-56</td>\n",
       "      <td>-61</td>\n",
       "      <td>-66</td>\n",
       "      <td>-71</td>\n",
       "      <td>-82</td>\n",
       "      <td>-81</td>\n",
       "      <td>1</td>\n",
       "    </tr>\n",
       "    <tr>\n",
       "      <th>1</th>\n",
       "      <td>-68</td>\n",
       "      <td>-57</td>\n",
       "      <td>-61</td>\n",
       "      <td>-65</td>\n",
       "      <td>-71</td>\n",
       "      <td>-85</td>\n",
       "      <td>-85</td>\n",
       "      <td>1</td>\n",
       "    </tr>\n",
       "    <tr>\n",
       "      <th>2</th>\n",
       "      <td>-63</td>\n",
       "      <td>-60</td>\n",
       "      <td>-60</td>\n",
       "      <td>-67</td>\n",
       "      <td>-76</td>\n",
       "      <td>-85</td>\n",
       "      <td>-84</td>\n",
       "      <td>1</td>\n",
       "    </tr>\n",
       "    <tr>\n",
       "      <th>3</th>\n",
       "      <td>-61</td>\n",
       "      <td>-60</td>\n",
       "      <td>-68</td>\n",
       "      <td>-62</td>\n",
       "      <td>-77</td>\n",
       "      <td>-90</td>\n",
       "      <td>-80</td>\n",
       "      <td>1</td>\n",
       "    </tr>\n",
       "    <tr>\n",
       "      <th>4</th>\n",
       "      <td>-63</td>\n",
       "      <td>-65</td>\n",
       "      <td>-60</td>\n",
       "      <td>-63</td>\n",
       "      <td>-77</td>\n",
       "      <td>-81</td>\n",
       "      <td>-87</td>\n",
       "      <td>1</td>\n",
       "    </tr>\n",
       "    <tr>\n",
       "      <th>...</th>\n",
       "      <td>...</td>\n",
       "      <td>...</td>\n",
       "      <td>...</td>\n",
       "      <td>...</td>\n",
       "      <td>...</td>\n",
       "      <td>...</td>\n",
       "      <td>...</td>\n",
       "      <td>...</td>\n",
       "    </tr>\n",
       "    <tr>\n",
       "      <th>1995</th>\n",
       "      <td>-59</td>\n",
       "      <td>-59</td>\n",
       "      <td>-48</td>\n",
       "      <td>-66</td>\n",
       "      <td>-50</td>\n",
       "      <td>-86</td>\n",
       "      <td>-94</td>\n",
       "      <td>4</td>\n",
       "    </tr>\n",
       "    <tr>\n",
       "      <th>1996</th>\n",
       "      <td>-59</td>\n",
       "      <td>-56</td>\n",
       "      <td>-50</td>\n",
       "      <td>-62</td>\n",
       "      <td>-47</td>\n",
       "      <td>-87</td>\n",
       "      <td>-90</td>\n",
       "      <td>4</td>\n",
       "    </tr>\n",
       "    <tr>\n",
       "      <th>1997</th>\n",
       "      <td>-62</td>\n",
       "      <td>-59</td>\n",
       "      <td>-46</td>\n",
       "      <td>-65</td>\n",
       "      <td>-45</td>\n",
       "      <td>-87</td>\n",
       "      <td>-88</td>\n",
       "      <td>4</td>\n",
       "    </tr>\n",
       "    <tr>\n",
       "      <th>1998</th>\n",
       "      <td>-62</td>\n",
       "      <td>-58</td>\n",
       "      <td>-52</td>\n",
       "      <td>-61</td>\n",
       "      <td>-41</td>\n",
       "      <td>-90</td>\n",
       "      <td>-85</td>\n",
       "      <td>4</td>\n",
       "    </tr>\n",
       "    <tr>\n",
       "      <th>1999</th>\n",
       "      <td>-59</td>\n",
       "      <td>-50</td>\n",
       "      <td>-45</td>\n",
       "      <td>-60</td>\n",
       "      <td>-45</td>\n",
       "      <td>-88</td>\n",
       "      <td>-87</td>\n",
       "      <td>4</td>\n",
       "    </tr>\n",
       "  </tbody>\n",
       "</table>\n",
       "<p>2000 rows × 8 columns</p>\n",
       "</div>"
      ],
      "text/plain": [
       "      wifi 1  wifi 2  wifi 3  wifi 4  wifi 5  wifi 6  wifi 7  room\n",
       "0        -64     -56     -61     -66     -71     -82     -81     1\n",
       "1        -68     -57     -61     -65     -71     -85     -85     1\n",
       "2        -63     -60     -60     -67     -76     -85     -84     1\n",
       "3        -61     -60     -68     -62     -77     -90     -80     1\n",
       "4        -63     -65     -60     -63     -77     -81     -87     1\n",
       "...      ...     ...     ...     ...     ...     ...     ...   ...\n",
       "1995     -59     -59     -48     -66     -50     -86     -94     4\n",
       "1996     -59     -56     -50     -62     -47     -87     -90     4\n",
       "1997     -62     -59     -46     -65     -45     -87     -88     4\n",
       "1998     -62     -58     -52     -61     -41     -90     -85     4\n",
       "1999     -59     -50     -45     -60     -45     -88     -87     4\n",
       "\n",
       "[2000 rows x 8 columns]"
      ]
     },
     "execution_count": 5,
     "metadata": {},
     "output_type": "execute_result"
    }
   ],
   "source": [
    "names = ['wifi 1', 'wifi 2', 'wifi 3', 'wifi 4', 'wifi 5', 'wifi 6', 'wifi 7', 'room']\n",
    "df= pd.read_csv('../wifi_localization.txt',names=names,sep='\\t')\n",
    "df"
   ]
  },
  {
   "cell_type": "code",
   "execution_count": 7,
   "id": "0bed23ff-c18c-424e-829e-8d7fe575ab12",
   "metadata": {
    "scrolled": true
   },
   "outputs": [
    {
     "name": "stdout",
     "output_type": "stream",
     "text": [
      "<class 'pandas.core.series.Series'>\n",
      "RangeIndex: 2000 entries, 0 to 1999\n",
      "Series name: wifi 1\n",
      "Non-Null Count  Dtype\n",
      "--------------  -----\n",
      "2000 non-null   int64\n",
      "dtypes: int64(1)\n",
      "memory usage: 15.8 KB\n",
      "None\n",
      "\n",
      "****\n",
      "\n",
      "<class 'pandas.core.series.Series'>\n",
      "RangeIndex: 2000 entries, 0 to 1999\n",
      "Series name: wifi 2\n",
      "Non-Null Count  Dtype\n",
      "--------------  -----\n",
      "2000 non-null   int64\n",
      "dtypes: int64(1)\n",
      "memory usage: 15.8 KB\n",
      "None\n",
      "\n",
      "****\n",
      "\n",
      "<class 'pandas.core.series.Series'>\n",
      "RangeIndex: 2000 entries, 0 to 1999\n",
      "Series name: wifi 3\n",
      "Non-Null Count  Dtype\n",
      "--------------  -----\n",
      "2000 non-null   int64\n",
      "dtypes: int64(1)\n",
      "memory usage: 15.8 KB\n",
      "None\n",
      "\n",
      "****\n",
      "\n",
      "<class 'pandas.core.series.Series'>\n",
      "RangeIndex: 2000 entries, 0 to 1999\n",
      "Series name: wifi 4\n",
      "Non-Null Count  Dtype\n",
      "--------------  -----\n",
      "2000 non-null   int64\n",
      "dtypes: int64(1)\n",
      "memory usage: 15.8 KB\n",
      "None\n",
      "\n",
      "****\n",
      "\n",
      "<class 'pandas.core.series.Series'>\n",
      "RangeIndex: 2000 entries, 0 to 1999\n",
      "Series name: wifi 5\n",
      "Non-Null Count  Dtype\n",
      "--------------  -----\n",
      "2000 non-null   int64\n",
      "dtypes: int64(1)\n",
      "memory usage: 15.8 KB\n",
      "None\n",
      "\n",
      "****\n",
      "\n",
      "<class 'pandas.core.series.Series'>\n",
      "RangeIndex: 2000 entries, 0 to 1999\n",
      "Series name: wifi 6\n",
      "Non-Null Count  Dtype\n",
      "--------------  -----\n",
      "2000 non-null   int64\n",
      "dtypes: int64(1)\n",
      "memory usage: 15.8 KB\n",
      "None\n",
      "\n",
      "****\n",
      "\n",
      "<class 'pandas.core.series.Series'>\n",
      "RangeIndex: 2000 entries, 0 to 1999\n",
      "Series name: wifi 7\n",
      "Non-Null Count  Dtype\n",
      "--------------  -----\n",
      "2000 non-null   int64\n",
      "dtypes: int64(1)\n",
      "memory usage: 15.8 KB\n",
      "None\n",
      "\n",
      "****\n",
      "\n",
      "<class 'pandas.core.series.Series'>\n",
      "RangeIndex: 2000 entries, 0 to 1999\n",
      "Series name: room\n",
      "Non-Null Count  Dtype\n",
      "--------------  -----\n",
      "2000 non-null   int64\n",
      "dtypes: int64(1)\n",
      "memory usage: 15.8 KB\n",
      "None\n",
      "\n",
      "****\n",
      "\n"
     ]
    }
   ],
   "source": [
    "for col in names:\n",
    "    print(df[col].info())\n",
    "    print('\\n****\\n')"
   ]
  },
  {
   "cell_type": "markdown",
   "id": "90de3f6d-8ba5-4f71-a346-cbe315f3b80d",
   "metadata": {},
   "source": [
    "#### Clean and Engeering Data\n",
    "Clean data no need!"
   ]
  },
  {
   "cell_type": "markdown",
   "id": "5e0a11ff-f938-41f4-95d9-42ff0616a7ea",
   "metadata": {},
   "source": [
    "#### Split Data in Train/Test for X and y\n"
   ]
  },
  {
   "cell_type": "code",
   "execution_count": 9,
   "id": "d93df3c0-38df-4df7-8d18-7c9d52dd545a",
   "metadata": {},
   "outputs": [],
   "source": [
    "X = df.drop(['room'], axis=1)\n",
    "y = df['room']\n",
    "X_train, X_test, y_train, y_test = train_test_split(\n",
    "    X, y, test_size=0.33, random_state=1099, stratify = y)"
   ]
  },
  {
   "cell_type": "markdown",
   "id": "5046338d-f8fc-45ad-9881-036fa8a7e110",
   "metadata": {},
   "source": [
    "### Model"
   ]
  },
  {
   "cell_type": "markdown",
   "id": "2588d587-c2c6-472d-95c4-a472158fa9c0",
   "metadata": {},
   "source": [
    "poly = PolynomialFeatures()\n",
    "log = LogisticRegression()\n",
    "\n",
    "pipe = Pipeline([('poly', poly), ('log', log)])"
   ]
  },
  {
   "cell_type": "markdown",
   "id": "bcce47bc-2714-448b-ac68-bea86eb65f51",
   "metadata": {
    "scrolled": true
   },
   "source": [
    "#help(PolynomialFeatures)\n",
    "help(LogisticRegression)"
   ]
  },
  {
   "cell_type": "markdown",
   "id": "8a787530-c608-407c-8fdc-95f6aea27f59",
   "metadata": {},
   "source": [
    "#hyper param values\n",
    "\n",
    "#poly\n",
    "degree = list(range(1,5))\n",
    "include_bias = [True,False]\n",
    "\n",
    "#log\n",
    "penalty = ['l1', 'l2', None]\n",
    "C = list(np.logspace(-1, 0, 5))\n",
    "solver = ['lbfgs', 'liblinear', 'saga']\n",
    "max_iter = [100, 200, 300, 400, 500, 750, 1000, ]\n",
    "multi_class = ['auto', 'ovr', 'multinomial', ]\n",
    "l1_ratio = list(np.logspace(-2, 0, 15))"
   ]
  },
  {
   "cell_type": "markdown",
   "id": "0070b90b-6218-443e-bc99-36a9f519367e",
   "metadata": {},
   "source": [
    "hyp_param = {\n",
    "    #poly\n",
    "    'poly__degree':degree,\n",
    "    'poly__include_bias': include_bias,\n",
    "    #log\n",
    "    'log__C': C,\n",
    "    'log__l1_ratio': l1_ratio,\n",
    "    'log__max_iter': max_iter,\n",
    "    'log__multi_class': multi_class,\n",
    "    'log__penalty': penalty,\n",
    "    'log__solver': solver,\n",
    "}"
   ]
  },
  {
   "cell_type": "markdown",
   "id": "088ac3c2-c2a2-4052-a880-b84a372e0d27",
   "metadata": {},
   "source": [
    "#### Create Model(s)"
   ]
  },
  {
   "cell_type": "markdown",
   "id": "7fa8c8f7-528c-40cb-86f5-180b074e5649",
   "metadata": {},
   "source": [
    "full_model = GridSearchCV(\n",
    "    estimator=pipe,\n",
    "    param_grid=hyp_param,\n",
    "    cv=5,\n",
    "    verbose=2\n",
    ")"
   ]
  },
  {
   "cell_type": "markdown",
   "id": "a98f6ab4-f386-4b39-b2fb-0d64674b9266",
   "metadata": {},
   "source": [
    "#### Train Model"
   ]
  },
  {
   "cell_type": "markdown",
   "id": "0c89b053-6759-4a2c-b207-f0b16f068382",
   "metadata": {},
   "source": [
    "full_model.fit(X_train,y_train)"
   ]
  },
  {
   "cell_type": "markdown",
   "id": "2adc73c9-09fd-4f02-921f-b7d33127da81",
   "metadata": {},
   "source": [
    "### Evaluate model"
   ]
  },
  {
   "cell_type": "markdown",
   "id": "bc6dd33d-dd6b-4f06-91d9-c7500048b449",
   "metadata": {},
   "source": [
    "y_pred = full_model.predict(X_test)"
   ]
  },
  {
   "cell_type": "markdown",
   "id": "976c60c9-cef4-4ebf-9127-ee39280a5292",
   "metadata": {},
   "source": [
    "#### Test On data"
   ]
  },
  {
   "cell_type": "markdown",
   "id": "c9c67fde-54d5-4a62-a29c-607ef5d2fd7a",
   "metadata": {},
   "source": [
    "ConfusionMatrixDisplay(\n",
    "    confusion_matrix=confusion_matrix(y_true=y_test,\n",
    "                                     y_pred=y_pred),\n",
    "    display_labels=full_model.classes_)"
   ]
  },
  {
   "cell_type": "markdown",
   "id": "09f99e10-72ec-4ccd-b722-5ae14970977c",
   "metadata": {
    "scrolled": true
   },
   "source": [
    "print(classification_report(y_true=y_test,\n",
    "                           y_pred=y_pred))"
   ]
  },
  {
   "cell_type": "markdown",
   "id": "a6b96fdc-ae0e-4197-8232-d9da2e4687a4",
   "metadata": {},
   "source": [
    "### Final Model(s)\n"
   ]
  },
  {
   "cell_type": "code",
   "execution_count": 27,
   "id": "65558597-5083-49d0-aeaa-a8a256d71a18",
   "metadata": {},
   "outputs": [],
   "source": [
    "hyp_param={\n",
    "    'log__C': 0.1,\n",
    "    'log__l1_ratio': 0.01,\n",
    "    'log__max_iter': 1000,\n",
    "    'log__multi_class': 'multinomial',\n",
    "    'log__penalty': 'l1',\n",
    "    'log__solver': 'saga',\n",
    "    'poly__degree': 1}"
   ]
  },
  {
   "cell_type": "code",
   "execution_count": 30,
   "id": "71edd95e-2846-4940-8099-8ca734d3cf4f",
   "metadata": {},
   "outputs": [],
   "source": [
    "final = LogisticRegression(   \n",
    "    C = 0.1,\n",
    "    l1_ratio =  0.01,\n",
    "    max_iter = 1000,\n",
    "    multi_class= 'multinomial',\n",
    "    penalty =  'l1',\n",
    "    solver = 'saga',)"
   ]
  },
  {
   "cell_type": "code",
   "execution_count": 31,
   "id": "a8ef43d6-1972-45d3-b9d0-487583e7632d",
   "metadata": {},
   "outputs": [
    {
     "name": "stderr",
     "output_type": "stream",
     "text": [
      "/opt/conda/lib/python3.11/site-packages/sklearn/linear_model/_logistic.py:1165: UserWarning: l1_ratio parameter is only used when penalty is 'elasticnet'. Got (penalty=l1)\n",
      "  warnings.warn(\n"
     ]
    },
    {
     "name": "stdout",
     "output_type": "stream",
     "text": [
      "              precision    recall  f1-score   support\n",
      "\n",
      "           1       1.00      0.98      0.99       165\n",
      "           2       0.99      0.96      0.97       165\n",
      "           3       0.94      0.98      0.96       165\n",
      "           4       0.99      0.99      0.99       165\n",
      "\n",
      "    accuracy                           0.98       660\n",
      "   macro avg       0.98      0.98      0.98       660\n",
      "weighted avg       0.98      0.98      0.98       660\n",
      "\n"
     ]
    },
    {
     "data": {
      "image/png": "[encoded data removed]",
      "text/plain": [
       "<Figure size 640x480 with 2 Axes>"
      ]
     },
     "metadata": {},
     "output_type": "display_data"
    }
   ],
   "source": [
    "# فقط برای نمایش نتیجه\n",
    "final.fit(X_train,y_train)\n",
    "y_pred = final.predict(X_test)\n",
    "\n",
    "ConfusionMatrixDisplay(\n",
    "    confusion_matrix=confusion_matrix(y_true=y_test,\n",
    "                                     y_pred=y_pred),\n",
    "    display_labels=final.classes_).plot()\n",
    "print(classification_report(y_true=y_test,\n",
    "                           y_pred=y_pred))"
   ]
  },
  {
   "cell_type": "markdown",
   "id": "85c4fe54-02b3-484f-b998-b033deed4205",
   "metadata": {},
   "source": [
    "#### Train on all Data "
   ]
  },
  {
   "cell_type": "code",
   "execution_count": 32,
   "id": "de437530-729b-4754-a171-8fb2a2140bec",
   "metadata": {},
   "outputs": [
    {
     "name": "stderr",
     "output_type": "stream",
     "text": [
      "/opt/conda/lib/python3.11/site-packages/sklearn/linear_model/_logistic.py:1165: UserWarning: l1_ratio parameter is only used when penalty is 'elasticnet'. Got (penalty=l1)\n",
      "  warnings.warn(\n"
     ]
    },
    {
     "data": {
      "text/html": [
       "<style>#sk-container-id-1 {color: black;background-color: white;}#sk-container-id-1 pre{padding: 0;}#sk-container-id-1 div.sk-toggleable {background-color: white;}#sk-container-id-1 label.sk-toggleable__label {cursor: pointer;display: block;width: 100%;margin-bottom: 0;padding: 0.3em;box-sizing: border-box;text-align: center;}#sk-container-id-1 label.sk-toggleable__label-arrow:before {content: \"▸\";float: left;margin-right: 0.25em;color: #696969;}#sk-container-id-1 label.sk-toggleable__label-arrow:hover:before {color: black;}#sk-container-id-1 div.sk-estimator:hover label.sk-toggleable__label-arrow:before {color: black;}#sk-container-id-1 div.sk-toggleable__content {max-height: 0;max-width: 0;overflow: hidden;text-align: left;background-color: #f0f8ff;}#sk-container-id-1 div.sk-toggleable__content pre {margin: 0.2em;color: black;border-radius: 0.25em;background-color: #f0f8ff;}#sk-container-id-1 input.sk-toggleable__control:checked~div.sk-toggleable__content {max-height: 200px;max-width: 100%;overflow: auto;}#sk-container-id-1 input.sk-toggleable__control:checked~label.sk-toggleable__label-arrow:before {content: \"▾\";}#sk-container-id-1 div.sk-estimator input.sk-toggleable__control:checked~label.sk-toggleable__label {background-color: #d4ebff;}#sk-container-id-1 div.sk-label input.sk-toggleable__control:checked~label.sk-toggleable__label {background-color: #d4ebff;}#sk-container-id-1 input.sk-hidden--visually {border: 0;clip: rect(1px 1px 1px 1px);clip: rect(1px, 1px, 1px, 1px);height: 1px;margin: -1px;overflow: hidden;padding: 0;position: absolute;width: 1px;}#sk-container-id-1 div.sk-estimator {font-family: monospace;background-color: #f0f8ff;border: 1px dotted black;border-radius: 0.25em;box-sizing: border-box;margin-bottom: 0.5em;}#sk-container-id-1 div.sk-estimator:hover {background-color: #d4ebff;}#sk-container-id-1 div.sk-parallel-item::after {content: \"\";width: 100%;border-bottom: 1px solid gray;flex-grow: 1;}#sk-container-id-1 div.sk-label:hover label.sk-toggleable__label {background-color: #d4ebff;}#sk-container-id-1 div.sk-serial::before {content: \"\";position: absolute;border-left: 1px solid gray;box-sizing: border-box;top: 0;bottom: 0;left: 50%;z-index: 0;}#sk-container-id-1 div.sk-serial {display: flex;flex-direction: column;align-items: center;background-color: white;padding-right: 0.2em;padding-left: 0.2em;position: relative;}#sk-container-id-1 div.sk-item {position: relative;z-index: 1;}#sk-container-id-1 div.sk-parallel {display: flex;align-items: stretch;justify-content: center;background-color: white;position: relative;}#sk-container-id-1 div.sk-item::before, #sk-container-id-1 div.sk-parallel-item::before {content: \"\";position: absolute;border-left: 1px solid gray;box-sizing: border-box;top: 0;bottom: 0;left: 50%;z-index: -1;}#sk-container-id-1 div.sk-parallel-item {display: flex;flex-direction: column;z-index: 1;position: relative;background-color: white;}#sk-container-id-1 div.sk-parallel-item:first-child::after {align-self: flex-end;width: 50%;}#sk-container-id-1 div.sk-parallel-item:last-child::after {align-self: flex-start;width: 50%;}#sk-container-id-1 div.sk-parallel-item:only-child::after {width: 0;}#sk-container-id-1 div.sk-dashed-wrapped {border: 1px dashed gray;margin: 0 0.4em 0.5em 0.4em;box-sizing: border-box;padding-bottom: 0.4em;background-color: white;}#sk-container-id-1 div.sk-label label {font-family: monospace;font-weight: bold;display: inline-block;line-height: 1.2em;}#sk-container-id-1 div.sk-label-container {text-align: center;}#sk-container-id-1 div.sk-container {/* jupyter's `normalize.less` sets `[hidden] { display: none; }` but bootstrap.min.css set `[hidden] { display: none !important; }` so we also need the `!important` here to be able to override the default hidden behavior on the sphinx rendered scikit-learn.org. See: https://github.com/scikit-learn/scikit-learn/issues/21755 */display: inline-block !important;position: relative;}#sk-container-id-1 div.sk-text-repr-fallback {display: none;}</style><div id=\"sk-container-id-1\" class=\"sk-top-container\"><div class=\"sk-text-repr-fallback\"><pre>LogisticRegression(C=0.1, l1_ratio=0.01, max_iter=1000,\n",
       "                   multi_class=&#x27;multinomial&#x27;, penalty=&#x27;l1&#x27;, solver=&#x27;saga&#x27;)</pre><b>In a Jupyter environment, please rerun this cell to show the HTML representation or trust the notebook. <br />On GitHub, the HTML representation is unable to render, please try loading this page with nbviewer.org.</b></div><div class=\"sk-container\" hidden><div class=\"sk-item\"><div class=\"sk-estimator sk-toggleable\"><input class=\"sk-toggleable__control sk-hidden--visually\" id=\"sk-estimator-id-1\" type=\"checkbox\" checked><label for=\"sk-estimator-id-1\" class=\"sk-toggleable__label sk-toggleable__label-arrow\">LogisticRegression</label><div class=\"sk-toggleable__content\"><pre>LogisticRegression(C=0.1, l1_ratio=0.01, max_iter=1000,\n",
       "                   multi_class=&#x27;multinomial&#x27;, penalty=&#x27;l1&#x27;, solver=&#x27;saga&#x27;)</pre></div></div></div></div></div>"
      ],
      "text/plain": [
       "LogisticRegression(C=0.1, l1_ratio=0.01, max_iter=1000,\n",
       "                   multi_class='multinomial', penalty='l1', solver='saga')"
      ]
     },
     "execution_count": 32,
     "metadata": {},
     "output_type": "execute_result"
    }
   ],
   "source": [
    "final.fit(X,y)"
   ]
  },
  {
   "cell_type": "markdown",
   "id": "36e33b81-ae1c-437d-98d8-12df18db766a",
   "metadata": {},
   "source": [
    "#### Save with joblib"
   ]
  },
  {
   "cell_type": "code",
   "execution_count": 33,
   "id": "9a9cf10c-daec-464d-9875-6b85cd32f900",
   "metadata": {},
   "outputs": [
    {
     "data": {
      "text/plain": [
       "['logistic.pkl']"
      ]
     },
     "execution_count": 33,
     "metadata": {},
     "output_type": "execute_result"
    }
   ],
   "source": [
    "import joblib\n",
    "joblib.dump(value=final,filename='logistic.pkl')"
   ]
  },
  {
   "cell_type": "markdown",
   "id": "5d85138d-b4a0-4347-9042-c8f9d818a109",
   "metadata": {},
   "source": [
    "# Congratulations!!!\n",
    "\n",
    "#### Created and trained by  Matin1099.\n"
   ]
  }
 ],
 "metadata": {
  "kernelspec": {
   "display_name": "Python 3 (ipykernel)",
   "language": "python",
   "name": "python3"
  },
  "language_info": {
   "codemirror_mode": {
    "name": "ipython",
    "version": 3
   },
   "file_extension": ".py",
   "mimetype": "text/x-python",
   "name": "python",
   "nbconvert_exporter": "python",
   "pygments_lexer": "ipython3",
   "version": "3.11.7"
  },
  "widgets": {
   "application/vnd.jupyter.widget-state+json": {
    "state": {},
    "version_major": 2,
    "version_minor": 0
   }
  }
 },
 "nbformat": 4,
 "nbformat_minor": 5
}
