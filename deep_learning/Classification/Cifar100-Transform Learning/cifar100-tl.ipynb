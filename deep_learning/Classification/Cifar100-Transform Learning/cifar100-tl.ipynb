{
 "cells": [
  {
   "cell_type": "markdown",
   "id": "a90300b7-22fe-4e8f-97bc-25f9bfcab982",
   "metadata": {
    "id": "a90300b7-22fe-4e8f-97bc-25f9bfcab982"
   },
   "source": [
    "# Cifar-100 classification via Transfer learning.\n",
    "\n",
    "in this notebook, we will build and train a transfer learning model on Cifar100 dataset\n",
    "\n",
    "  "
   ]
  },
  {
   "cell_type": "markdown",
   "id": "83b2e635-28b4-40e3-a42f-101671e7a2e1",
   "metadata": {
    "id": "83b2e635-28b4-40e3-a42f-101671e7a2e1"
   },
   "source": [
    "## phase one:\n",
    "### load libraries"
   ]
  },
  {
   "cell_type": "code",
   "execution_count": null,
   "id": "6b8c02ce-be6f-4f49-b601-ac5e5d61901a",
   "metadata": {
    "colab": {
     "base_uri": "https://localhost:8080/"
    },
    "executionInfo": {
     "elapsed": 25453,
     "status": "ok",
     "timestamp": 1744228416196,
     "user": {
      "displayName": "Matin Nosrati",
      "userId": "16469621278101823226"
     },
     "user_tz": -210
    },
    "id": "6b8c02ce-be6f-4f49-b601-ac5e5d61901a",
    "outputId": "44cbcdf8-36af-44c5-e8b5-eac077afc1c4"
   },
   "outputs": [],
   "source": [
    "from google.colab import drive\n",
    "\n",
    "drive.mount(\"/content/drive\")\n",
    "%cd /content/drive/MyDrive"
   ]
  },
  {
   "cell_type": "code",
   "execution_count": null,
   "id": "73d5ce16-3d26-41f0-ab98-1dd0804e6a0b",
   "metadata": {
    "executionInfo": {
     "elapsed": 8790,
     "status": "ok",
     "timestamp": 1744228424980,
     "user": {
      "displayName": "Matin Nosrati",
      "userId": "16469621278101823226"
     },
     "user_tz": -210
    },
    "id": "73d5ce16-3d26-41f0-ab98-1dd0804e6a0b"
   },
   "outputs": [],
   "source": [
    "# Load librarys and the TensorBoard notebook extension\n",
    "\n",
    "import keras\n",
    "import matplotlib.pyplot as plt\n",
    "import numpy as np\n",
    "import tensorflow as tf\n",
    "\n",
    "%load_ext tensorboard\n",
    "\n",
    "# clean log dir\n",
    "!rm -rf logs/"
   ]
  },
  {
   "cell_type": "markdown",
   "id": "48e31695-bee0-4893-99ab-01114c85e91a",
   "metadata": {
    "id": "48e31695-bee0-4893-99ab-01114c85e91a"
   },
   "source": [
    "## phase two:\n",
    "### load data"
   ]
  },
  {
   "cell_type": "code",
   "execution_count": null,
   "id": "f0cd4aca-f8fb-412d-af42-dd536104be47",
   "metadata": {
    "colab": {
     "base_uri": "https://localhost:8080/"
    },
    "executionInfo": {
     "elapsed": 10174,
     "status": "ok",
     "timestamp": 1744228435132,
     "user": {
      "displayName": "Matin Nosrati",
      "userId": "16469621278101823226"
     },
     "user_tz": -210
    },
    "id": "f0cd4aca-f8fb-412d-af42-dd536104be47",
    "outputId": "fcc46466-c1b8-4012-828a-aa7bf31dcbc8"
   },
   "outputs": [],
   "source": [
    "# load data and assert the correct number for data\n",
    "## load Cifar100\n",
    "(x_train, y_train), (x_test, y_test) = keras.datasets.cifar100.load_data()\n",
    "\n",
    "\n",
    "# make sure about shape of data\n",
    "assert x_train.shape == (50000, 32, 32, 3)\n",
    "assert y_train.shape == (50000, 1)\n",
    "\n",
    "assert x_test.shape == (10000, 32, 32, 3)\n",
    "assert y_test.shape == (10000, 1)\n",
    "\n",
    "# create val and test set\n",
    "x_val = x_test[:8000]\n",
    "x_test = x_test[8000:]\n",
    "y_val = y_test[:8000]\n",
    "y_test = y_test[8000:]\n",
    "\n",
    "# make sure about shape of val and test\n",
    "assert x_val.shape == (8000, 32, 32, 3)\n",
    "assert y_val.shape == (8000, 1)\n",
    "\n",
    "assert x_test.shape == (2000, 32, 32, 3)\n",
    "assert y_test.shape == (2000, 1)"
   ]
  },
  {
   "cell_type": "code",
   "execution_count": null,
   "id": "3433a014-9e2b-45b6-9b0a-d79152d2f015",
   "metadata": {
    "colab": {
     "base_uri": "https://localhost:8080/",
     "height": 470
    },
    "executionInfo": {
     "elapsed": 562,
     "status": "ok",
     "timestamp": 1744228435685,
     "user": {
      "displayName": "Matin Nosrati",
      "userId": "16469621278101823226"
     },
     "user_tz": -210
    },
    "id": "3433a014-9e2b-45b6-9b0a-d79152d2f015",
    "outputId": "f29d8201-667f-4899-c4b5-81698b353e1f"
   },
   "outputs": [],
   "source": [
    "# visualize some random pics\n",
    "rand = np.random.randint(low=0, high=50000, size=4)\n",
    "f, axarr = plt.subplots(2, 2)\n",
    "axarr[0, 0].imshow(x_train[rand[0]])\n",
    "axarr[0, 0].set_title(f\"label is {y_train[rand[0]]}\")\n",
    "axarr[0, 1].imshow(x_train[rand[1]])\n",
    "axarr[0, 1].set_title(f\"label is {y_train[rand[1]]}\")\n",
    "\n",
    "axarr[1, 0].imshow(x_train[rand[2]])\n",
    "axarr[1, 0].set_title(f\"label is {y_train[rand[2]]}\")\n",
    "\n",
    "axarr[1, 1].imshow(x_train[rand[3]])\n",
    "axarr[1, 1].set_title(f\"label is {y_train[rand[3]]}\")"
   ]
  },
  {
   "cell_type": "markdown",
   "id": "e269fea8-c720-4c49-9237-0fc32e245e10",
   "metadata": {
    "id": "e269fea8-c720-4c49-9237-0fc32e245e10"
   },
   "source": [
    "## phase Three:\n",
    "### create model.\n",
    "our model will contain of 3 models:\n",
    " 1.  we will use panda method.\n",
    " 2. would use augmention\n",
    " 3. would use Xception pre-trained\n",
    " 4. would use Dense for classification"
   ]
  },
  {
   "cell_type": "code",
   "execution_count": null,
   "id": "e63418ca-f911-454e-836d-57eea34740ad",
   "metadata": {
    "colab": {
     "base_uri": "https://localhost:8080/",
     "height": 294
    },
    "executionInfo": {
     "elapsed": 4461,
     "status": "ok",
     "timestamp": 1744228492209,
     "user": {
      "displayName": "Matin Nosrati",
      "userId": "16469621278101823226"
     },
     "user_tz": -210
    },
    "id": "e63418ca-f911-454e-836d-57eea34740ad",
    "outputId": "1c32f125-c4ea-481a-ae6c-e897db729380",
    "scrolled": true
   },
   "outputs": [],
   "source": [
    "# augmnt model\n",
    "augment_model = keras.Sequential(\n",
    "    [\n",
    "        keras.layers.RandomFlip(mode=\"horizontal_and_vertical\"),\n",
    "        keras.layers.RandomRotation(0.15),\n",
    "        keras.layers.RandomZoom(0.15),\n",
    "        keras.layers.RandomContrast(0.15),\n",
    "        keras.layers.Resizing(100, 100),\n",
    "        keras.layers.Rescaling(1.0 / 255),\n",
    "    ]\n",
    ")\n",
    "\n",
    "# pre-Trained model\n",
    "xcept = keras.applications.Xception(\n",
    "    include_top=False,\n",
    "    weights=\"imagenet\",\n",
    "    input_shape=(100, 100, 3),\n",
    ")\n",
    "# setting train ableing OFF\n",
    "xcept.trainable = False\n",
    "\n",
    "# 100 class classifire\n",
    "classifire = keras.Sequential(\n",
    "    [\n",
    "        keras.layers.GlobalAveragePooling2D(),\n",
    "        keras.layers.Dropout(0.4),\n",
    "        keras.layers.Dense(units=512, activation=\"relu\"),\n",
    "        keras.layers.Dropout(0.3),\n",
    "        keras.layers.Dense(units=256, activation=\"relu\"),\n",
    "        keras.layers.Dense(units=100, activation=\"softmax\"),\n",
    "    ]\n",
    ")\n",
    "# model in functial style\n",
    "inputs = keras.Input(shape=(32, 32, 3))\n",
    "x = augment_model(inputs)\n",
    "x = xcept(x, training=False)\n",
    "outputs = classifire(x)\n",
    "\n",
    "model = keras.Model(inputs, outputs)\n",
    "\n",
    "model.summary()"
   ]
  },
  {
   "cell_type": "code",
   "execution_count": null,
   "id": "76e76265-ea4e-4dfd-8819-5a72b44b0be5",
   "metadata": {
    "colab": {
     "base_uri": "https://localhost:8080/",
     "height": 839
    },
    "executionInfo": {
     "elapsed": 1654,
     "status": "ok",
     "timestamp": 1744228493846,
     "user": {
      "displayName": "Matin Nosrati",
      "userId": "16469621278101823226"
     },
     "user_tz": -210
    },
    "id": "76e76265-ea4e-4dfd-8819-5a72b44b0be5",
    "outputId": "ddf3238d-9ba1-4570-b80e-12277b23216e",
    "scrolled": true
   },
   "outputs": [],
   "source": [
    "keras.utils.plot_model(model=model, show_shapes=True)"
   ]
  },
  {
   "cell_type": "markdown",
   "id": "b6decfbe-e99d-4ee9-a61d-18a7dba62e8f",
   "metadata": {
    "id": "b6decfbe-e99d-4ee9-a61d-18a7dba62e8f"
   },
   "source": [
    "## phase Four:\n",
    "### compile and train *Freezed* model"
   ]
  },
  {
   "cell_type": "code",
   "execution_count": null,
   "id": "b9deccc3-8426-4fd7-bb79-ac1c583f6cc0",
   "metadata": {
    "executionInfo": {
     "elapsed": 14,
     "status": "ok",
     "timestamp": 1744228493848,
     "user": {
      "displayName": "Matin Nosrati",
      "userId": "16469621278101823226"
     },
     "user_tz": -210
    },
    "id": "b9deccc3-8426-4fd7-bb79-ac1c583f6cc0"
   },
   "outputs": [],
   "source": [
    "# Compile  model\n",
    "model.compile(\n",
    "    optimizer=\"adam\",\n",
    "    loss=\"sparse_categorical_crossentropy\",\n",
    "    metrics=[\"acc\"],\n",
    ")"
   ]
  },
  {
   "cell_type": "code",
   "execution_count": null,
   "id": "596b2319-ca7e-48d3-a74b-a42c1afe9a87",
   "metadata": {
    "executionInfo": {
     "elapsed": 7,
     "status": "ok",
     "timestamp": 1744228495305,
     "user": {
      "displayName": "Matin Nosrati",
      "userId": "16469621278101823226"
     },
     "user_tz": -210
    },
    "id": "596b2319-ca7e-48d3-a74b-a42c1afe9a87"
   },
   "outputs": [],
   "source": [
    "# custom call  back for +90 percent acc\n",
    "class myCallback(tf.keras.callbacks.Callback):\n",
    "    def on_epoch_end(self, epoch, logs=None):\n",
    "        \"\"\"\n",
    "        Halts the training when the accuravy rise  above 90%\n",
    "\n",
    "        Args:\n",
    "            epoch (integer) - index of epoch (required but unused in the function definition below)\n",
    "            logs (dict) - metric results from the training epoch\n",
    "        \"\"\"\n",
    "\n",
    "        # Check the loss\n",
    "        if logs[\"val_acc\"] > 80:\n",
    "\n",
    "            # Stop if threshold is met\n",
    "            print(\"\\nLoss is lower than 0.4 so cancelling training!\")\n",
    "            self.model.stop_training = True\n",
    "\n",
    "\n",
    "tensorboard_callback = keras.callbacks.TensorBoard(log_dir=\"./logs\")"
   ]
  },
  {
   "cell_type": "code",
   "execution_count": null,
   "id": "f18ab68c-b1ca-4908-8945-149a9e96edde",
   "metadata": {
    "colab": {
     "base_uri": "https://localhost:8080/"
    },
    "executionInfo": {
     "elapsed": 338847,
     "status": "ok",
     "timestamp": 1744230355035,
     "user": {
      "displayName": "Matin Nosrati",
      "userId": "16469621278101823226"
     },
     "user_tz": -210
    },
    "id": "f18ab68c-b1ca-4908-8945-149a9e96edde",
    "outputId": "a42f8a51-bad6-4868-97a4-5b7712a23964"
   },
   "outputs": [],
   "source": [
    "epoch = 200\n",
    "# Train model\n",
    "hist = model.fit(\n",
    "    x=x_train,\n",
    "    y=y_train,\n",
    "    batch_size=128,\n",
    "    validation_data=(x_val, y_val),\n",
    "    epochs=epoch,\n",
    "    callbacks=[\n",
    "        myCallback(),\n",
    "        keras.callbacks.ReduceLROnPlateau(factor=0.5, patience=5),\n",
    "        tensorboard_callback,\n",
    "    ],\n",
    ")"
   ]
  },
  {
   "cell_type": "code",
   "execution_count": null,
   "id": "714f7f07-b19d-41f9-b870-1d6f81001013",
   "metadata": {
    "executionInfo": {
     "elapsed": 584,
     "status": "ok",
     "timestamp": 1744230355616,
     "user": {
      "displayName": "Matin Nosrati",
      "userId": "16469621278101823226"
     },
     "user_tz": -210
    },
    "id": "714f7f07-b19d-41f9-b870-1d6f81001013"
   },
   "outputs": [],
   "source": [
    "# save model befor defreeze\n",
    "model.save(\"cifar10-tl-befor-defreeze.keras\")"
   ]
  },
  {
   "cell_type": "markdown",
   "id": "cd3a71c1-d6ef-4e98-a00e-92bb6587203d",
   "metadata": {
    "id": "cd3a71c1-d6ef-4e98-a00e-92bb6587203d"
   },
   "source": [
    "## phase Five:\n",
    "### Train End-to-End\n",
    "final model will be ready soon!"
   ]
  },
  {
   "cell_type": "code",
   "execution_count": null,
   "id": "6917e6f1-0a68-41dc-8eef-54fd1af2815b",
   "metadata": {
    "colab": {
     "base_uri": "https://localhost:8080/",
     "height": 221
    },
    "executionInfo": {
     "elapsed": 418,
     "status": "error",
     "timestamp": 1744230356032,
     "user": {
      "displayName": "Matin Nosrati",
      "userId": "16469621278101823226"
     },
     "user_tz": -210
    },
    "id": "6917e6f1-0a68-41dc-8eef-54fd1af2815b",
    "outputId": "e9c7c7e5-a79a-4a5e-d072-7d9bcd98811a",
    "scrolled": true
   },
   "outputs": [],
   "source": [
    "# defreeze model and retain\n",
    "xcept.trainable = True\n",
    "model.summary()\n",
    "model.compile(\n",
    "    optimizer=\"adam\",\n",
    "    loss=\"categorical_crossentropy\",\n",
    "    metrics=[\"acc\"],\n",
    ")"
   ]
  },
  {
   "cell_type": "code",
   "execution_count": null,
   "id": "38ceb7f8-fb76-4711-9e70-5f53ce9bcf88",
   "metadata": {
    "executionInfo": {
     "elapsed": 3,
     "status": "aborted",
     "timestamp": 1744230356034,
     "user": {
      "displayName": "Matin Nosrati",
      "userId": "16469621278101823226"
     },
     "user_tz": -210
    },
    "id": "38ceb7f8-fb76-4711-9e70-5f53ce9bcf88"
   },
   "outputs": [],
   "source": [
    "# End to End train\n",
    "## NOTE: TRAIN FEW EPOCH 1~5\n",
    "epoch = 3\n",
    "model.fit(\n",
    "    x=x_train, y=y_train, batch_size=128, validation_data=(x_val, y_val), epochs=epoch\n",
    ")"
   ]
  },
  {
   "cell_type": "markdown",
   "id": "7d24ed03-ad55-43cd-8fa2-0fdc9ac9c010",
   "metadata": {
    "id": "7d24ed03-ad55-43cd-8fa2-0fdc9ac9c010"
   },
   "source": [
    "## FINAL MODEL"
   ]
  },
  {
   "cell_type": "code",
   "execution_count": null,
   "id": "e-wp_pcck4fJ",
   "metadata": {
    "executionInfo": {
     "elapsed": 5,
     "status": "aborted",
     "timestamp": 1744230356037,
     "user": {
      "displayName": "Matin Nosrati",
      "userId": "16469621278101823226"
     },
     "user_tz": -210
    },
    "id": "e-wp_pcck4fJ"
   },
   "outputs": [],
   "source": [
    "# Evaluate model performance on the test set\n",
    "model.evaluate(x=x_test, y=y_test)"
   ]
  },
  {
   "cell_type": "code",
   "execution_count": null,
   "id": "7c042b6b-eabc-4a83-9943-8720abb65a19",
   "metadata": {
    "executionInfo": {
     "elapsed": 5,
     "status": "aborted",
     "timestamp": 1744230356036,
     "user": {
      "displayName": "Matin Nosrati",
      "userId": "16469621278101823226"
     },
     "user_tz": -210
    },
    "id": "7c042b6b-eabc-4a83-9943-8720abb65a19"
   },
   "outputs": [],
   "source": [
    "# export model\n",
    "model.save(\"cifar100-TL-fine-tuned.keras\")"
   ]
  },
  {
   "cell_type": "code",
   "execution_count": null,
   "id": "1pzQ09BclFf5",
   "metadata": {
    "id": "1pzQ09BclFf5"
   },
   "outputs": [],
   "source": []
  }
 ],
 "metadata": {
  "accelerator": "GPU",
  "colab": {
   "gpuType": "T4",
   "provenance": []
  },
  "kernelspec": {
   "display_name": "Python 3 (ipykernel)",
   "language": "python",
   "name": "python3"
  },
  "language_info": {
   "codemirror_mode": {
    "name": "ipython",
    "version": 3
   },
   "file_extension": ".py",
   "mimetype": "text/x-python",
   "name": "python",
   "nbconvert_exporter": "python",
   "pygments_lexer": "ipython3",
   "version": "3.11.11"
  }
 },
 "nbformat": 4,
 "nbformat_minor": 5
}
