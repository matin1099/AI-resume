{
 "cells": [
  {
   "cell_type": "markdown",
   "id": "a90300b7-22fe-4e8f-97bc-25f9bfcab982",
   "metadata": {
    "id": "a90300b7-22fe-4e8f-97bc-25f9bfcab982"
   },
   "source": [
    "# Cifar-10 classification via Transfer learning.\n",
    "in this notebook, we will build and train a transfer learning model on Cifar10 dataset\n",
    "\n",
    "\n",
    "  "
   ]
  },
  {
   "cell_type": "markdown",
   "id": "83b2e635-28b4-40e3-a42f-101671e7a2e1",
   "metadata": {
    "id": "83b2e635-28b4-40e3-a42f-101671e7a2e1"
   },
   "source": [
    "## phase one:\n",
    "### load libraries"
   ]
  },
  {
   "cell_type": "code",
   "execution_count": null,
   "id": "6b8c02ce-be6f-4f49-b601-ac5e5d61901a",
   "metadata": {
    "colab": {
     "base_uri": "https://localhost:8080/"
    },
    "executionInfo": {
     "elapsed": 29319,
     "status": "ok",
     "timestamp": 1744107418981,
     "user": {
      "displayName": "anisa nosraty",
      "userId": "01169053488001909703"
     },
     "user_tz": -210
    },
    "id": "6b8c02ce-be6f-4f49-b601-ac5e5d61901a",
    "outputId": "9aa5ba52-a584-4a0d-f0d8-3bf72b84590d"
   },
   "outputs": [],
   "source": [
    "from google.colab import drive\n",
    "\n",
    "drive.mount(\"/content/drive\")\n",
    "%cd /content/drive/MyDrive/Resume/Classification/Cifar10-pure/"
   ]
  },
  {
   "cell_type": "code",
   "execution_count": null,
   "id": "73d5ce16-3d26-41f0-ab98-1dd0804e6a0b",
   "metadata": {
    "executionInfo": {
     "elapsed": 4431,
     "status": "ok",
     "timestamp": 1744107423408,
     "user": {
      "displayName": "anisa nosraty",
      "userId": "01169053488001909703"
     },
     "user_tz": -210
    },
    "id": "73d5ce16-3d26-41f0-ab98-1dd0804e6a0b"
   },
   "outputs": [],
   "source": [
    "# Load librarys and the TensorBoard notebook extension\n",
    "\n",
    "import keras\n",
    "import matplotlib.pyplot as plt\n",
    "import numpy as np\n",
    "import tensorflow as tf\n",
    "\n",
    "%load_ext tensorboard\n",
    "\n",
    "# clean log dir\n",
    "!rm -rf logs/"
   ]
  },
  {
   "cell_type": "markdown",
   "id": "48e31695-bee0-4893-99ab-01114c85e91a",
   "metadata": {
    "id": "48e31695-bee0-4893-99ab-01114c85e91a"
   },
   "source": [
    "## phase two:\n",
    "### load data"
   ]
  },
  {
   "cell_type": "code",
   "execution_count": null,
   "id": "f0cd4aca-f8fb-412d-af42-dd536104be47",
   "metadata": {
    "colab": {
     "base_uri": "https://localhost:8080/"
    },
    "executionInfo": {
     "elapsed": 7268,
     "status": "ok",
     "timestamp": 1744107430663,
     "user": {
      "displayName": "anisa nosraty",
      "userId": "01169053488001909703"
     },
     "user_tz": -210
    },
    "id": "f0cd4aca-f8fb-412d-af42-dd536104be47",
    "outputId": "7237f4de-22eb-4f75-8239-edf5b5d8e910"
   },
   "outputs": [],
   "source": [
    "# load data and assert the correct number for data\n",
    "## load Cifar10\n",
    "(x_train, y_train), (x_test, y_test) = keras.datasets.cifar10.load_data()\n",
    "y_train = keras.utils.to_categorical(y_train, num_classes=10)  # make labels ONE-HOT\n",
    "y_test = keras.utils.to_categorical(y_test, num_classes=10)  # make labels ONE-HOT\n",
    "\n",
    "# make sure about shape of data\n",
    "assert x_train.shape == (50000, 32, 32, 3)\n",
    "assert y_train.shape == (50000, 10)\n",
    "\n",
    "assert x_test.shape == (10000, 32, 32, 3)\n",
    "assert y_test.shape == (10000, 10)\n",
    "\n",
    "# create val and test set\n",
    "x_val = x_test[:8000]\n",
    "x_test = x_test[8000:]\n",
    "y_val = y_test[:8000]\n",
    "y_test = y_test[8000:]\n",
    "\n",
    "# make sure about shape of val and test\n",
    "assert x_val.shape == (8000, 32, 32, 3)\n",
    "assert y_val.shape == (8000, 10)\n",
    "\n",
    "assert x_test.shape == (2000, 32, 32, 3)\n",
    "assert y_test.shape == (2000, 10)\n",
    "\n",
    "# map labes to names\n",
    "map2name = {\n",
    "    0: \"airplane\",\n",
    "    1: \"automobile\",\n",
    "    2: \"bird\",\n",
    "    3: \"cat\",\n",
    "    4: \"deer\",\n",
    "    5: \"dog\",\n",
    "    6: \"frog\",\n",
    "    7: \"horse\",\n",
    "    8: \"ship\",\n",
    "    9: \"truck\",\n",
    "}"
   ]
  },
  {
   "cell_type": "code",
   "execution_count": null,
   "id": "3433a014-9e2b-45b6-9b0a-d79152d2f015",
   "metadata": {
    "colab": {
     "base_uri": "https://localhost:8080/",
     "height": 469
    },
    "executionInfo": {
     "elapsed": 974,
     "status": "ok",
     "timestamp": 1744107431626,
     "user": {
      "displayName": "anisa nosraty",
      "userId": "01169053488001909703"
     },
     "user_tz": -210
    },
    "id": "3433a014-9e2b-45b6-9b0a-d79152d2f015",
    "outputId": "15c0e048-7d3d-449b-c89f-27f327be9c84"
   },
   "outputs": [],
   "source": [
    "## Visualize some random sample\n",
    "\n",
    "rand = np.random.randint(low=0, high=50000, size=4)\n",
    "f, axarr = plt.subplots(2, 2)\n",
    "axarr[0, 0].imshow(x_train[rand[0]])\n",
    "axarr[0, 0].set_title(f\"label is {map2name.get(y_train[rand[0]].argmax())}\")\n",
    "axarr[0, 1].imshow(x_train[rand[1]])\n",
    "axarr[0, 1].set_title(f\"label is {map2name.get(y_train[rand[1]].argmax())}\")\n",
    "\n",
    "axarr[1, 0].imshow(x_train[rand[2]])\n",
    "axarr[1, 0].set_title(f\"label is {map2name.get(y_train[rand[2]].argmax())}\")\n",
    "\n",
    "axarr[1, 1].imshow(x_train[rand[3]])\n",
    "axarr[1, 1].set_title(f\"label is {map2name.get(y_train[rand[3]].argmax())}\")"
   ]
  },
  {
   "cell_type": "markdown",
   "id": "e269fea8-c720-4c49-9237-0fc32e245e10",
   "metadata": {
    "id": "e269fea8-c720-4c49-9237-0fc32e245e10"
   },
   "source": [
    "## phase Three:\n",
    "### create model.\n",
    "our model will contain of 3 models:\n",
    " 1.  we will use panda method.\n",
    " 2. would use augmention\n",
    " 3. would use Xception pre-trained\n",
    " 4. would use Dense for classification"
   ]
  },
  {
   "cell_type": "code",
   "execution_count": null,
   "id": "e63418ca-f911-454e-836d-57eea34740ad",
   "metadata": {
    "colab": {
     "base_uri": "https://localhost:8080/",
     "height": 257
    },
    "executionInfo": {
     "elapsed": 1084,
     "status": "ok",
     "timestamp": 1744110466289,
     "user": {
      "displayName": "anisa nosraty",
      "userId": "01169053488001909703"
     },
     "user_tz": -210
    },
    "id": "e63418ca-f911-454e-836d-57eea34740ad",
    "outputId": "2e1ac729-a5ea-430a-cfdf-ed621dfc6cd0"
   },
   "outputs": [],
   "source": [
    "# augmnt model\n",
    "augment_model = keras.Sequential(\n",
    "    [\n",
    "        keras.layers.RandomFlip(mode=\"horizontal_and_vertical\"),\n",
    "        keras.layers.RandomRotation(0.15),\n",
    "        keras.layers.RandomZoom(0.15),\n",
    "        keras.layers.RandomContrast(0.15),\n",
    "        keras.layers.Resizing(100, 100),\n",
    "        keras.layers.Rescaling(1.0 / 255),\n",
    "    ]\n",
    ")\n",
    "\n",
    "# pre-Trained model\n",
    "xcept = keras.applications.Xception(\n",
    "    include_top=False,\n",
    "    weights=\"imagenet\",\n",
    "    input_shape=(100, 100, 3),\n",
    ")\n",
    "# setting train ableing OFF\n",
    "xcept.trainable = False\n",
    "\n",
    "# 10 class classifire\n",
    "classifire = keras.Sequential(\n",
    "    [\n",
    "        keras.layers.GlobalAveragePooling2D(),\n",
    "        keras.layers.Dropout(0.4),\n",
    "        keras.layers.Dense(units=512, activation=\"relu\"),\n",
    "        keras.layers.Dense(units=10, activation=\"softmax\"),\n",
    "    ]\n",
    ")\n",
    "# model in functial style\n",
    "inputs = keras.Input(shape=(32, 32, 3))\n",
    "x = augment_model(inputs)\n",
    "x = xcept(x, training=False)\n",
    "outputs = classifire(x)\n",
    "\n",
    "model = keras.Model(inputs, outputs)\n",
    "\n",
    "model.summary()"
   ]
  },
  {
   "cell_type": "code",
   "execution_count": null,
   "id": "76e76265-ea4e-4dfd-8819-5a72b44b0be5",
   "metadata": {
    "colab": {
     "base_uri": "https://localhost:8080/",
     "height": 839
    },
    "executionInfo": {
     "elapsed": 412,
     "status": "ok",
     "timestamp": 1744109066601,
     "user": {
      "displayName": "anisa nosraty",
      "userId": "01169053488001909703"
     },
     "user_tz": -210
    },
    "id": "76e76265-ea4e-4dfd-8819-5a72b44b0be5",
    "outputId": "9ff6e897-688f-4bbb-9abe-bc1fb0552e1d",
    "scrolled": true
   },
   "outputs": [],
   "source": [
    "keras.utils.plot_model(model=model, show_shapes=True)"
   ]
  },
  {
   "cell_type": "markdown",
   "id": "b6decfbe-e99d-4ee9-a61d-18a7dba62e8f",
   "metadata": {
    "id": "b6decfbe-e99d-4ee9-a61d-18a7dba62e8f"
   },
   "source": [
    "## phase Four:\n",
    "### compile and train *Freezed* model"
   ]
  },
  {
   "cell_type": "code",
   "execution_count": null,
   "id": "b9deccc3-8426-4fd7-bb79-ac1c583f6cc0",
   "metadata": {
    "executionInfo": {
     "elapsed": 389,
     "status": "ok",
     "timestamp": 1744110471628,
     "user": {
      "displayName": "anisa nosraty",
      "userId": "01169053488001909703"
     },
     "user_tz": -210
    },
    "id": "b9deccc3-8426-4fd7-bb79-ac1c583f6cc0"
   },
   "outputs": [],
   "source": [
    "# Compile  model\n",
    "\n",
    "model.compile(\n",
    "    optimizer=\"adam\",\n",
    "    loss=\"categorical_crossentropy\",\n",
    "    metrics=[\"acc\"],\n",
    ")"
   ]
  },
  {
   "cell_type": "code",
   "execution_count": null,
   "id": "f18ab68c-b1ca-4908-8945-149a9e96edde",
   "metadata": {
    "colab": {
     "base_uri": "https://localhost:8080/"
    },
    "executionInfo": {
     "elapsed": 2268945,
     "status": "ok",
     "timestamp": 1744117946900,
     "user": {
      "displayName": "anisa nosraty",
      "userId": "01169053488001909703"
     },
     "user_tz": -210
    },
    "id": "f18ab68c-b1ca-4908-8945-149a9e96edde",
    "outputId": "739651fe-028a-4115-a32e-a99001b249b8"
   },
   "outputs": [],
   "source": [
    "epoch = 200\n",
    "# Train model\n",
    "\n",
    "model.fit(\n",
    "    x=x_train, y=y_train, batch_size=128, validation_data=(x_val, y_val), epochs=epoch\n",
    ")"
   ]
  },
  {
   "cell_type": "code",
   "execution_count": null,
   "id": "714f7f07-b19d-41f9-b870-1d6f81001013",
   "metadata": {
    "executionInfo": {
     "elapsed": 683,
     "status": "ok",
     "timestamp": 1744117947564,
     "user": {
      "displayName": "anisa nosraty",
      "userId": "01169053488001909703"
     },
     "user_tz": -210
    },
    "id": "714f7f07-b19d-41f9-b870-1d6f81001013"
   },
   "outputs": [],
   "source": [
    "# save model before defreeze\n",
    "model.save(\"cifar10-tl-before-defreeze.keras\")"
   ]
  },
  {
   "cell_type": "markdown",
   "id": "cd3a71c1-d6ef-4e98-a00e-92bb6587203d",
   "metadata": {
    "id": "cd3a71c1-d6ef-4e98-a00e-92bb6587203d"
   },
   "source": [
    "## phase Five:\n",
    "### Train End-to-End\n",
    "final model will be ready soon!"
   ]
  },
  {
   "cell_type": "code",
   "execution_count": null,
   "id": "6917e6f1-0a68-41dc-8eef-54fd1af2815b",
   "metadata": {
    "colab": {
     "base_uri": "https://localhost:8080/",
     "height": 273
    },
    "executionInfo": {
     "elapsed": 39,
     "status": "ok",
     "timestamp": 1744117947565,
     "user": {
      "displayName": "anisa nosraty",
      "userId": "01169053488001909703"
     },
     "user_tz": -210
    },
    "id": "6917e6f1-0a68-41dc-8eef-54fd1af2815b",
    "outputId": "d3d6d989-4f4a-404b-f899-7b25d5f81d21"
   },
   "outputs": [],
   "source": [
    "# defreeze model and retain\n",
    "xcept.trainable = True\n",
    "model.summary()\n",
    "model.compile(\n",
    "    optimizer=\"adam\",\n",
    "    loss=\"categorical_crossentropy\",\n",
    "    metrics=[\"acc\"],\n",
    ")"
   ]
  },
  {
   "cell_type": "code",
   "execution_count": null,
   "id": "38ceb7f8-fb76-4711-9e70-5f53ce9bcf88",
   "metadata": {
    "colab": {
     "base_uri": "https://localhost:8080/"
    },
    "executionInfo": {
     "elapsed": 792665,
     "status": "ok",
     "timestamp": 1744118740202,
     "user": {
      "displayName": "anisa nosraty",
      "userId": "01169053488001909703"
     },
     "user_tz": -210
    },
    "id": "38ceb7f8-fb76-4711-9e70-5f53ce9bcf88",
    "outputId": "4e13d2f1-76bf-4ec3-fb49-54b833d62f17"
   },
   "outputs": [],
   "source": [
    "# End to End train\n",
    "## NOTE: TRAIN FEW EPOCH 1~5\n",
    "epoch = 3\n",
    "model.fit(\n",
    "    x=x_train, y=y_train, batch_size=128, validation_data=(x_val, y_val), epochs=epoch\n",
    ")"
   ]
  },
  {
   "cell_type": "markdown",
   "id": "7d24ed03-ad55-43cd-8fa2-0fdc9ac9c010",
   "metadata": {
    "id": "7d24ed03-ad55-43cd-8fa2-0fdc9ac9c010"
   },
   "source": [
    "## FINAL MODEL"
   ]
  },
  {
   "cell_type": "code",
   "execution_count": null,
   "id": "e-wp_pcck4fJ",
   "metadata": {
    "colab": {
     "base_uri": "https://localhost:8080/"
    },
    "executionInfo": {
     "elapsed": 2811,
     "status": "ok",
     "timestamp": 1744118769764,
     "user": {
      "displayName": "anisa nosraty",
      "userId": "01169053488001909703"
     },
     "user_tz": -210
    },
    "id": "e-wp_pcck4fJ",
    "outputId": "684c2abd-0e94-4f07-8cd7-3dbc1e90745f"
   },
   "outputs": [],
   "source": [
    "# Evaluate model performance on the test set\n",
    "model.evaluate(x=x_test, y=y_test)"
   ]
  },
  {
   "cell_type": "code",
   "execution_count": null,
   "id": "7c042b6b-eabc-4a83-9943-8720abb65a19",
   "metadata": {
    "executionInfo": {
     "elapsed": 6042,
     "status": "ok",
     "timestamp": 1744118746232,
     "user": {
      "displayName": "anisa nosraty",
      "userId": "01169053488001909703"
     },
     "user_tz": -210
    },
    "id": "7c042b6b-eabc-4a83-9943-8720abb65a19"
   },
   "outputs": [],
   "source": [
    "# export model\n",
    "model.save(\"cifar10-TL-fine-tuned.keras\")"
   ]
  }
 ],
 "metadata": {
  "accelerator": "GPU",
  "colab": {
   "gpuType": "T4",
   "provenance": []
  },
  "kernelspec": {
   "display_name": "Python 3 (ipykernel)",
   "language": "python",
   "name": "python3"
  },
  "language_info": {
   "codemirror_mode": {
    "name": "ipython",
    "version": 3
   },
   "file_extension": ".py",
   "mimetype": "text/x-python",
   "name": "python",
   "nbconvert_exporter": "python",
   "pygments_lexer": "ipython3",
   "version": "3.11.11"
  }
 },
 "nbformat": 4,
 "nbformat_minor": 5
}
