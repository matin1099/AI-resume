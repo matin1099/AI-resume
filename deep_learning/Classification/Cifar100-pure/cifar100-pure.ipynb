{
 "cells": [
  {
   "cell_type": "markdown",
   "id": "e769d501-be38-475c-8cde-1eca74147622",
   "metadata": {
    "id": "a90300b7-22fe-4e8f-97bc-25f9bfcab982"
   },
   "source": [
    "# Cifar-100 classification via CNN.\n",
    "in this notebook, we will build and train a CNN model on Cifar100 dataset\n",
    "\n",
    "\n",
    "  "
   ]
  },
  {
   "cell_type": "markdown",
   "id": "8d0af067-4c94-4afd-b25f-a44ed3aba4c3",
   "metadata": {
    "id": "83b2e635-28b4-40e3-a42f-101671e7a2e1"
   },
   "source": [
    "## phase one:\n",
    "### load libraries"
   ]
  },
  {
   "cell_type": "code",
   "execution_count": null,
   "id": "0n3PPz7mboW-",
   "metadata": {
    "colab": {
     "base_uri": "https://localhost:8080/"
    },
    "executionInfo": {
     "elapsed": 21298,
     "status": "ok",
     "timestamp": 1744297577505,
     "user": {
      "displayName": "Matin Nosrati",
      "userId": "16469621278101823226"
     },
     "user_tz": -210
    },
    "id": "0n3PPz7mboW-",
    "outputId": "a527b94d-6394-47f4-d619-3ecede0e392c"
   },
   "outputs": [],
   "source": [
    "from google.colab import drive\n",
    "\n",
    "drive.mount(\"/content/drive\")\n",
    "%cd /content/drive/MyDrive/"
   ]
  },
  {
   "cell_type": "code",
   "execution_count": null,
   "id": "87a4c340-8a90-4a0d-8a9b-b4d11acbd7f6",
   "metadata": {
    "executionInfo": {
     "elapsed": 5041,
     "status": "ok",
     "timestamp": 1744297582542,
     "user": {
      "displayName": "Matin Nosrati",
      "userId": "16469621278101823226"
     },
     "user_tz": -210
    },
    "id": "87a4c340-8a90-4a0d-8a9b-b4d11acbd7f6"
   },
   "outputs": [],
   "source": [
    "# Load librarys and the TensorBoard notebook extension\n",
    "\n",
    "import keras\n",
    "import matplotlib.pyplot as plt\n",
    "import numpy as np\n",
    "import tensorflow as tf\n",
    "\n",
    "%load_ext tensorboard\n",
    "\n",
    "\n",
    "# clean log dir\n",
    "!rm -rf logs/"
   ]
  },
  {
   "cell_type": "markdown",
   "id": "3ec6cb82-b58c-48fb-b869-fbc67d9f73bb",
   "metadata": {
    "id": "3ec6cb82-b58c-48fb-b869-fbc67d9f73bb",
    "scrolled": true
   },
   "source": [
    "## phase two:\n",
    "### load data"
   ]
  },
  {
   "cell_type": "code",
   "execution_count": null,
   "id": "aeb7f990-e88e-4aee-a7e7-104fdb6ff32d",
   "metadata": {
    "colab": {
     "base_uri": "https://localhost:8080/"
    },
    "executionInfo": {
     "elapsed": 7399,
     "status": "ok",
     "timestamp": 1744297589934,
     "user": {
      "displayName": "Matin Nosrati",
      "userId": "16469621278101823226"
     },
     "user_tz": -210
    },
    "id": "aeb7f990-e88e-4aee-a7e7-104fdb6ff32d",
    "outputId": "6edafe8d-b4f9-408f-b71f-63907382763a"
   },
   "outputs": [],
   "source": [
    "# load data and assert the correct number for data\n",
    "## load Cifar10\n",
    "(x_train, y_train), (x_test, y_test) = keras.datasets.cifar100.load_data()\n",
    "# make sure about shape of data\n",
    "\n",
    "assert x_train.shape == (50000, 32, 32, 3)\n",
    "assert y_train.shape == (50000, 1)\n",
    "\n",
    "assert x_test.shape == (10000, 32, 32, 3)\n",
    "assert y_test.shape == (10000, 1)\n",
    "\n",
    "# create val and test set\n",
    "x_val = x_test[:5000]\n",
    "x_test = x_test[5000:]\n",
    "y_val = y_test[:5000]\n",
    "y_test = y_test[5000:]\n",
    "\n",
    "# make sure about shape of val and test\n",
    "\n",
    "assert x_val.shape == (5000, 32, 32, 3)\n",
    "assert y_val.shape == (5000, 1)\n",
    "\n",
    "assert x_test.shape == (5000, 32, 32, 3)\n",
    "assert y_test.shape == (5000, 1)"
   ]
  },
  {
   "cell_type": "code",
   "execution_count": null,
   "id": "e6008009-4565-424e-bdde-1f2f4d74eff6",
   "metadata": {
    "colab": {
     "base_uri": "https://localhost:8080/",
     "height": 470
    },
    "executionInfo": {
     "elapsed": 828,
     "status": "ok",
     "timestamp": 1744297590754,
     "user": {
      "displayName": "Matin Nosrati",
      "userId": "16469621278101823226"
     },
     "user_tz": -210
    },
    "id": "e6008009-4565-424e-bdde-1f2f4d74eff6",
    "outputId": "447184be-3bfa-4af8-a105-935e69ea8568",
    "scrolled": true
   },
   "outputs": [],
   "source": [
    "## Visualize some sample\n",
    "\n",
    "f, axarr = plt.subplots(2, 2)\n",
    "axarr[0, 0].imshow(x_train[5])\n",
    "axarr[0, 0].set_title(f\"label is {y_train[5]}\")\n",
    "axarr[0, 1].imshow(x_train[50])\n",
    "axarr[0, 1].set_title(f\"label is {y_train[50]}\")\n",
    "\n",
    "axarr[1, 0].imshow(x_train[500])\n",
    "axarr[1, 0].set_title(f\"label is {y_train[500]}\")\n",
    "\n",
    "axarr[1, 1].imshow(x_train[5000])\n",
    "axarr[1, 1].set_title(f\"label is {y_train[5000]}\")"
   ]
  },
  {
   "cell_type": "markdown",
   "id": "2a14188f-0154-4a48-82ac-b120f50f3e0b",
   "metadata": {
    "id": "2a14188f-0154-4a48-82ac-b120f50f3e0b"
   },
   "source": [
    "## phase three:\n",
    "### create model\n",
    " 1.  we will use panda method.\n",
    " 2. would use augmention\n",
    " 3. would use CNN for featur extraction\n",
    " 4. would use Dense for classification"
   ]
  },
  {
   "cell_type": "code",
   "execution_count": null,
   "id": "45142d43-9cbb-4d2f-80be-bfe1c303a478",
   "metadata": {
    "colab": {
     "base_uri": "https://localhost:8080/",
     "height": 1000
    },
    "executionInfo": {
     "elapsed": 2673,
     "status": "ok",
     "timestamp": 1744297593420,
     "user": {
      "displayName": "Matin Nosrati",
      "userId": "16469621278101823226"
     },
     "user_tz": -210
    },
    "id": "45142d43-9cbb-4d2f-80be-bfe1c303a478",
    "outputId": "d5eac8a2-9ff3-4496-8963-ac8e0d143177"
   },
   "outputs": [],
   "source": [
    "# prepare layers\n",
    "\n",
    "from tensorflow.keras import regularizers\n",
    "\n",
    "# Define data augmentation pipeline\n",
    "data_augmentation = keras.Sequential(\n",
    "    [\n",
    "        keras.layers.RandomFlip(\"horizontal\"),\n",
    "        keras.layers.RandomRotation(0.15),  # Increased rotation range\n",
    "        keras.layers.RandomZoom(0.2),  # More aggressive zoom\n",
    "        keras.layers.RandomContrast(0.1),  # New: Helps with lighting variations\n",
    "    ]\n",
    ")\n",
    "\n",
    "# CNN + Classi fire\n",
    "model = keras.Sequential(\n",
    "    [\n",
    "        keras.layers.InputLayer((32, 32, 3)),\n",
    "        data_augmentation,\n",
    "        keras.layers.Rescaling(1.0 / 255),\n",
    "        # Block 1 (32 filters)\n",
    "        keras.layers.Conv2D(32, (3, 3), padding=\"same\", activation=\"relu\"),\n",
    "        keras.layers.BatchNormalization(),  # Stabilizes training\n",
    "        keras.layers.Conv2D(32, (3, 3), activation=\"relu\"),\n",
    "        keras.layers.BatchNormalization(),\n",
    "        keras.layers.MaxPool2D((2, 2)),\n",
    "        keras.layers.Dropout(0.25),\n",
    "        # Block 2 (64 filters)\n",
    "        keras.layers.Conv2D(64, (3, 3), padding=\"same\", activation=\"relu\"),\n",
    "        keras.layers.BatchNormalization(),\n",
    "        keras.layers.Conv2D(64, (3, 3), activation=\"relu\"),\n",
    "        keras.layers.BatchNormalization(),\n",
    "        keras.layers.MaxPool2D((2, 2)),\n",
    "        keras.layers.Dropout(0.3),\n",
    "        # Block 3 (128 filters)\n",
    "        keras.layers.Conv2D(128, (3, 3), padding=\"same\", activation=\"relu\"),\n",
    "        keras.layers.BatchNormalization(),\n",
    "        keras.layers.Conv2D(128, (3, 3), activation=\"relu\"),\n",
    "        keras.layers.BatchNormalization(),\n",
    "        keras.layers.GlobalAveragePooling2D(),\n",
    "        keras.layers.Dropout(0.4),\n",
    "        # Classifier\n",
    "        keras.layers.Dense(\n",
    "            512, activation=\"relu\", kernel_regularizer=regularizers.l2(0.001)\n",
    "        ),\n",
    "        keras.layers.Dense(\n",
    "            256, activation=\"relu\", kernel_regularizer=regularizers.l2(0.001)\n",
    "        ),\n",
    "        # keras.layers.BatchNormalization(),\n",
    "        keras.layers.Dropout(0.3),\n",
    "        keras.layers.Dense(100, activation=\"softmax\"),\n",
    "    ]\n",
    ")\n",
    "\n",
    "model.summary()"
   ]
  },
  {
   "cell_type": "code",
   "execution_count": null,
   "id": "28ff988c-fda9-4ff6-a41c-acb6b69ddde1",
   "metadata": {
    "colab": {
     "base_uri": "https://localhost:8080/",
     "height": 1000
    },
    "executionInfo": {
     "elapsed": 2850,
     "status": "ok",
     "timestamp": 1744297596258,
     "user": {
      "displayName": "Matin Nosrati",
      "userId": "16469621278101823226"
     },
     "user_tz": -210
    },
    "id": "28ff988c-fda9-4ff6-a41c-acb6b69ddde1",
    "outputId": "173bcd30-bf47-4d06-90f6-1e54af69a0b6",
    "scrolled": true
   },
   "outputs": [],
   "source": [
    "keras.utils.plot_model(model, show_shapes=True)"
   ]
  },
  {
   "cell_type": "code",
   "execution_count": null,
   "id": "8618cbc2-07fc-4c6d-b99f-9a4aee1ed2c7",
   "metadata": {
    "executionInfo": {
     "elapsed": 16,
     "status": "ok",
     "timestamp": 1744297596259,
     "user": {
      "displayName": "Matin Nosrati",
      "userId": "16469621278101823226"
     },
     "user_tz": -210
    },
    "id": "8618cbc2-07fc-4c6d-b99f-9a4aee1ed2c7"
   },
   "outputs": [],
   "source": [
    "# Compile  model\n",
    "model.compile(\n",
    "    optimizer=keras.optimizers.Adam(learning_rate=0.0005),\n",
    "    loss=\"sparse_categorical_crossentropy\",\n",
    "    metrics=[\"acc\"],\n",
    ")"
   ]
  },
  {
   "cell_type": "code",
   "execution_count": null,
   "id": "ca9cd0c6-43e4-4f0c-a447-c569e254b163",
   "metadata": {
    "executionInfo": {
     "elapsed": 13,
     "status": "ok",
     "timestamp": 1744297596259,
     "user": {
      "displayName": "Matin Nosrati",
      "userId": "16469621278101823226"
     },
     "user_tz": -210
    },
    "id": "ca9cd0c6-43e4-4f0c-a447-c569e254b163"
   },
   "outputs": [],
   "source": [
    "# custom call  back for +80 percent acc\n",
    "class myCallback(tf.keras.callbacks.Callback):\n",
    "    def on_epoch_end(self, epoch, logs=None):\n",
    "        \"\"\"\n",
    "        Halts the training when the accuravy rise  above 90%\n",
    "\n",
    "        Args:\n",
    "            epoch (integer) - index of epoch (required but unused in the function definition below)\n",
    "            logs (dict) - metric results from the training epoch\n",
    "        \"\"\"\n",
    "\n",
    "        # Check the loss\n",
    "        if logs[\"val_acc\"] > 80:\n",
    "\n",
    "            # Stop if threshold is met\n",
    "            print(\"\\nLoss is lower than 0.4 so cancelling training!\")\n",
    "            self.model.stop_training = True\n",
    "\n",
    "\n",
    "tensorboard_callback = keras.callbacks.TensorBoard(log_dir=\"./logs\")"
   ]
  },
  {
   "cell_type": "code",
   "execution_count": null,
   "id": "a3010f98-1cb8-418f-ae32-14e05e9aad35",
   "metadata": {
    "colab": {
     "base_uri": "https://localhost:8080/"
    },
    "executionInfo": {
     "elapsed": 929610,
     "status": "ok",
     "timestamp": 1744298525859,
     "user": {
      "displayName": "Matin Nosrati",
      "userId": "16469621278101823226"
     },
     "user_tz": -210
    },
    "id": "a3010f98-1cb8-418f-ae32-14e05e9aad35",
    "outputId": "1791090a-3230-4d69-e45d-e268e25f7cdd"
   },
   "outputs": [],
   "source": [
    "epochs = 50\n",
    "\n",
    "# Train the model\n",
    "history = model.fit(\n",
    "    x=x_train,\n",
    "    y=y_train,\n",
    "    batch_size=128,\n",
    "    validation_data=(x_val, y_val),\n",
    "    callbacks=[\n",
    "        myCallback(),\n",
    "        keras.callbacks.ReduceLROnPlateau(factor=0.5, patience=5),\n",
    "        tensorboard_callback,\n",
    "    ],\n",
    "    epochs=epochs,\n",
    ")"
   ]
  },
  {
   "cell_type": "code",
   "execution_count": null,
   "id": "68b0d714-b0c5-4145-bd2c-86a7b01fdc01",
   "metadata": {
    "colab": {
     "base_uri": "https://localhost:8080/"
    },
    "executionInfo": {
     "elapsed": 1314,
     "status": "ok",
     "timestamp": 1744298527164,
     "user": {
      "displayName": "Matin Nosrati",
      "userId": "16469621278101823226"
     },
     "user_tz": -210
    },
    "id": "68b0d714-b0c5-4145-bd2c-86a7b01fdc01",
    "outputId": "4fcbb8dc-506c-4d19-cade-ac77a8c8ff3c"
   },
   "outputs": [],
   "source": [
    "# Evaluate model performance on the test set\n",
    "model.evaluate(x=x_test, y=y_test)"
   ]
  },
  {
   "cell_type": "code",
   "execution_count": null,
   "id": "G5WK_FmteJmd",
   "metadata": {
    "executionInfo": {
     "elapsed": 15,
     "status": "ok",
     "timestamp": 1744298525860,
     "user": {
      "displayName": "Matin Nosrati",
      "userId": "16469621278101823226"
     },
     "user_tz": -210
    },
    "id": "G5WK_FmteJmd"
   },
   "outputs": [],
   "source": [
    "# export model\n",
    "model.save(\"Cifar100-pure.keras\")"
   ]
  },
  {
   "cell_type": "code",
   "execution_count": null,
   "id": "4de38e4d-9bb0-4efc-b368-a538da0992e4",
   "metadata": {
    "id": "4de38e4d-9bb0-4efc-b368-a538da0992e4",
    "scrolled": true
   },
   "outputs": [],
   "source": [
    "%tensorboard --bind_all --logdir logs  --port 7776"
   ]
  }
 ],
 "metadata": {
  "accelerator": "GPU",
  "colab": {
   "gpuType": "T4",
   "provenance": []
  },
  "kernelspec": {
   "display_name": "Python 3 (ipykernel)",
   "language": "python",
   "name": "python3"
  },
  "language_info": {
   "codemirror_mode": {
    "name": "ipython",
    "version": 3
   },
   "file_extension": ".py",
   "mimetype": "text/x-python",
   "name": "python",
   "nbconvert_exporter": "python",
   "pygments_lexer": "ipython3",
   "version": "3.11.11"
  }
 },
 "nbformat": 4,
 "nbformat_minor": 5
}
